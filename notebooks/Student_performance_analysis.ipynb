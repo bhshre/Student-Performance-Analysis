{
  "nbformat": 4,
  "nbformat_minor": 0,
  "metadata": {
    "colab": {
      "provenance": []
    },
    "kernelspec": {
      "name": "python3",
      "display_name": "Python 3"
    },
    "language_info": {
      "name": "python"
    }
  },
  "cells": [
    {
      "cell_type": "markdown",
      "source": [
        "# Title: Student Performance Analysis & Prediction\n",
        "## Project Overview\n",
        "### Domain: Education | Toolset: Python (Pandas, Seaborn, Matplotlib), Google Colab\n",
        "\n",
        "### Goal: Analyzed how lifestyle, attendance, and background factors affect student exam performance\n",
        "\n",
        "### Data Features: Attendance %, study/sleep hours, part-time status, diet, parental education, mental health\n",
        "\n",
        "### Techniques Used: EDA, correlation heatmaps, box plots, group analysis, t-test hypothesis testing\n",
        "\n",
        "### Insights Discovered: High attendance, good sleep, and parental education positively impact performance\n",
        "\n",
        "### Outcome: Created an exportable visual report using Jupyter Notebook for recruiters and stakeholders\n",
        "\n",
        "### Skills Demonstrated: Data wrangling, visualization, statistics, and domain storytelling"
      ],
      "metadata": {
        "id": "6eQ-OcQa3O5C"
      }
    },
    {
      "cell_type": "markdown",
      "source": [
        "###  Step 1: Setup & Data Import"
      ],
      "metadata": {
        "id": "xkrC35Q34hnY"
      }
    },
    {
      "cell_type": "code",
      "execution_count": 28,
      "metadata": {
        "colab": {
          "base_uri": "https://localhost:8080/",
          "height": 282
        },
        "id": "EDfL-Gcn28Ye",
        "outputId": "10c5babc-a4e8-42a5-944a-faaede104773"
      },
      "outputs": [
        {
          "output_type": "display_data",
          "data": {
            "text/plain": [
              "<IPython.core.display.HTML object>"
            ],
            "text/html": [
              "\n",
              "     <input type=\"file\" id=\"files-cd3f80ca-b467-424c-9ea8-252179ec0aea\" name=\"files[]\" multiple disabled\n",
              "        style=\"border:none\" />\n",
              "     <output id=\"result-cd3f80ca-b467-424c-9ea8-252179ec0aea\">\n",
              "      Upload widget is only available when the cell has been executed in the\n",
              "      current browser session. Please rerun this cell to enable.\n",
              "      </output>\n",
              "      <script>// Copyright 2017 Google LLC\n",
              "//\n",
              "// Licensed under the Apache License, Version 2.0 (the \"License\");\n",
              "// you may not use this file except in compliance with the License.\n",
              "// You may obtain a copy of the License at\n",
              "//\n",
              "//      http://www.apache.org/licenses/LICENSE-2.0\n",
              "//\n",
              "// Unless required by applicable law or agreed to in writing, software\n",
              "// distributed under the License is distributed on an \"AS IS\" BASIS,\n",
              "// WITHOUT WARRANTIES OR CONDITIONS OF ANY KIND, either express or implied.\n",
              "// See the License for the specific language governing permissions and\n",
              "// limitations under the License.\n",
              "\n",
              "/**\n",
              " * @fileoverview Helpers for google.colab Python module.\n",
              " */\n",
              "(function(scope) {\n",
              "function span(text, styleAttributes = {}) {\n",
              "  const element = document.createElement('span');\n",
              "  element.textContent = text;\n",
              "  for (const key of Object.keys(styleAttributes)) {\n",
              "    element.style[key] = styleAttributes[key];\n",
              "  }\n",
              "  return element;\n",
              "}\n",
              "\n",
              "// Max number of bytes which will be uploaded at a time.\n",
              "const MAX_PAYLOAD_SIZE = 100 * 1024;\n",
              "\n",
              "function _uploadFiles(inputId, outputId) {\n",
              "  const steps = uploadFilesStep(inputId, outputId);\n",
              "  const outputElement = document.getElementById(outputId);\n",
              "  // Cache steps on the outputElement to make it available for the next call\n",
              "  // to uploadFilesContinue from Python.\n",
              "  outputElement.steps = steps;\n",
              "\n",
              "  return _uploadFilesContinue(outputId);\n",
              "}\n",
              "\n",
              "// This is roughly an async generator (not supported in the browser yet),\n",
              "// where there are multiple asynchronous steps and the Python side is going\n",
              "// to poll for completion of each step.\n",
              "// This uses a Promise to block the python side on completion of each step,\n",
              "// then passes the result of the previous step as the input to the next step.\n",
              "function _uploadFilesContinue(outputId) {\n",
              "  const outputElement = document.getElementById(outputId);\n",
              "  const steps = outputElement.steps;\n",
              "\n",
              "  const next = steps.next(outputElement.lastPromiseValue);\n",
              "  return Promise.resolve(next.value.promise).then((value) => {\n",
              "    // Cache the last promise value to make it available to the next\n",
              "    // step of the generator.\n",
              "    outputElement.lastPromiseValue = value;\n",
              "    return next.value.response;\n",
              "  });\n",
              "}\n",
              "\n",
              "/**\n",
              " * Generator function which is called between each async step of the upload\n",
              " * process.\n",
              " * @param {string} inputId Element ID of the input file picker element.\n",
              " * @param {string} outputId Element ID of the output display.\n",
              " * @return {!Iterable<!Object>} Iterable of next steps.\n",
              " */\n",
              "function* uploadFilesStep(inputId, outputId) {\n",
              "  const inputElement = document.getElementById(inputId);\n",
              "  inputElement.disabled = false;\n",
              "\n",
              "  const outputElement = document.getElementById(outputId);\n",
              "  outputElement.innerHTML = '';\n",
              "\n",
              "  const pickedPromise = new Promise((resolve) => {\n",
              "    inputElement.addEventListener('change', (e) => {\n",
              "      resolve(e.target.files);\n",
              "    });\n",
              "  });\n",
              "\n",
              "  const cancel = document.createElement('button');\n",
              "  inputElement.parentElement.appendChild(cancel);\n",
              "  cancel.textContent = 'Cancel upload';\n",
              "  const cancelPromise = new Promise((resolve) => {\n",
              "    cancel.onclick = () => {\n",
              "      resolve(null);\n",
              "    };\n",
              "  });\n",
              "\n",
              "  // Wait for the user to pick the files.\n",
              "  const files = yield {\n",
              "    promise: Promise.race([pickedPromise, cancelPromise]),\n",
              "    response: {\n",
              "      action: 'starting',\n",
              "    }\n",
              "  };\n",
              "\n",
              "  cancel.remove();\n",
              "\n",
              "  // Disable the input element since further picks are not allowed.\n",
              "  inputElement.disabled = true;\n",
              "\n",
              "  if (!files) {\n",
              "    return {\n",
              "      response: {\n",
              "        action: 'complete',\n",
              "      }\n",
              "    };\n",
              "  }\n",
              "\n",
              "  for (const file of files) {\n",
              "    const li = document.createElement('li');\n",
              "    li.append(span(file.name, {fontWeight: 'bold'}));\n",
              "    li.append(span(\n",
              "        `(${file.type || 'n/a'}) - ${file.size} bytes, ` +\n",
              "        `last modified: ${\n",
              "            file.lastModifiedDate ? file.lastModifiedDate.toLocaleDateString() :\n",
              "                                    'n/a'} - `));\n",
              "    const percent = span('0% done');\n",
              "    li.appendChild(percent);\n",
              "\n",
              "    outputElement.appendChild(li);\n",
              "\n",
              "    const fileDataPromise = new Promise((resolve) => {\n",
              "      const reader = new FileReader();\n",
              "      reader.onload = (e) => {\n",
              "        resolve(e.target.result);\n",
              "      };\n",
              "      reader.readAsArrayBuffer(file);\n",
              "    });\n",
              "    // Wait for the data to be ready.\n",
              "    let fileData = yield {\n",
              "      promise: fileDataPromise,\n",
              "      response: {\n",
              "        action: 'continue',\n",
              "      }\n",
              "    };\n",
              "\n",
              "    // Use a chunked sending to avoid message size limits. See b/62115660.\n",
              "    let position = 0;\n",
              "    do {\n",
              "      const length = Math.min(fileData.byteLength - position, MAX_PAYLOAD_SIZE);\n",
              "      const chunk = new Uint8Array(fileData, position, length);\n",
              "      position += length;\n",
              "\n",
              "      const base64 = btoa(String.fromCharCode.apply(null, chunk));\n",
              "      yield {\n",
              "        response: {\n",
              "          action: 'append',\n",
              "          file: file.name,\n",
              "          data: base64,\n",
              "        },\n",
              "      };\n",
              "\n",
              "      let percentDone = fileData.byteLength === 0 ?\n",
              "          100 :\n",
              "          Math.round((position / fileData.byteLength) * 100);\n",
              "      percent.textContent = `${percentDone}% done`;\n",
              "\n",
              "    } while (position < fileData.byteLength);\n",
              "  }\n",
              "\n",
              "  // All done.\n",
              "  yield {\n",
              "    response: {\n",
              "      action: 'complete',\n",
              "    }\n",
              "  };\n",
              "}\n",
              "\n",
              "scope.google = scope.google || {};\n",
              "scope.google.colab = scope.google.colab || {};\n",
              "scope.google.colab._files = {\n",
              "  _uploadFiles,\n",
              "  _uploadFilesContinue,\n",
              "};\n",
              "})(self);\n",
              "</script> "
            ]
          },
          "metadata": {}
        },
        {
          "output_type": "stream",
          "name": "stdout",
          "text": [
            "Saving student_performance_data.csv to student_performance_data (1).csv\n"
          ]
        },
        {
          "output_type": "execute_result",
          "data": {
            "text/plain": [
              "  student_id  age  gender  study_hours_per_day  social_media_hours  \\\n",
              "0      S1000   23  Female                  0.0                 1.2   \n",
              "1      S1001   20  Female                  6.9                 2.8   \n",
              "2      S1002   21    Male                  1.4                 3.1   \n",
              "3      S1003   23  Female                  1.0                 3.9   \n",
              "4      S1004   19  Female                  5.0                 4.4   \n",
              "\n",
              "   netflix_hours part_time_job  attendance_percentage  sleep_hours  \\\n",
              "0            1.1            No                   85.0          8.0   \n",
              "1            2.3            No                   97.3          4.6   \n",
              "2            1.3            No                   94.8          8.0   \n",
              "3            1.0            No                   71.0          9.2   \n",
              "4            0.5            No                   90.9          4.9   \n",
              "\n",
              "  diet_quality  exercise_frequency parental_education_level internet_quality  \\\n",
              "0         Fair                   6                   Master          Average   \n",
              "1         Good                   6              High School          Average   \n",
              "2         Poor                   1              High School             Poor   \n",
              "3         Poor                   4                   Master             Good   \n",
              "4         Fair                   3                   Master             Good   \n",
              "\n",
              "   mental_health_rating extracurricular_participation  exam_score  \n",
              "0                     8                           Yes        56.2  \n",
              "1                     8                            No       100.0  \n",
              "2                     1                            No        34.3  \n",
              "3                     1                           Yes        26.8  \n",
              "4                     1                            No        66.4  "
            ],
            "text/html": [
              "\n",
              "  <div id=\"df-292cf1cf-0514-4153-be13-952e9095c9aa\" class=\"colab-df-container\">\n",
              "    <div>\n",
              "<style scoped>\n",
              "    .dataframe tbody tr th:only-of-type {\n",
              "        vertical-align: middle;\n",
              "    }\n",
              "\n",
              "    .dataframe tbody tr th {\n",
              "        vertical-align: top;\n",
              "    }\n",
              "\n",
              "    .dataframe thead th {\n",
              "        text-align: right;\n",
              "    }\n",
              "</style>\n",
              "<table border=\"1\" class=\"dataframe\">\n",
              "  <thead>\n",
              "    <tr style=\"text-align: right;\">\n",
              "      <th></th>\n",
              "      <th>student_id</th>\n",
              "      <th>age</th>\n",
              "      <th>gender</th>\n",
              "      <th>study_hours_per_day</th>\n",
              "      <th>social_media_hours</th>\n",
              "      <th>netflix_hours</th>\n",
              "      <th>part_time_job</th>\n",
              "      <th>attendance_percentage</th>\n",
              "      <th>sleep_hours</th>\n",
              "      <th>diet_quality</th>\n",
              "      <th>exercise_frequency</th>\n",
              "      <th>parental_education_level</th>\n",
              "      <th>internet_quality</th>\n",
              "      <th>mental_health_rating</th>\n",
              "      <th>extracurricular_participation</th>\n",
              "      <th>exam_score</th>\n",
              "    </tr>\n",
              "  </thead>\n",
              "  <tbody>\n",
              "    <tr>\n",
              "      <th>0</th>\n",
              "      <td>S1000</td>\n",
              "      <td>23</td>\n",
              "      <td>Female</td>\n",
              "      <td>0.0</td>\n",
              "      <td>1.2</td>\n",
              "      <td>1.1</td>\n",
              "      <td>No</td>\n",
              "      <td>85.0</td>\n",
              "      <td>8.0</td>\n",
              "      <td>Fair</td>\n",
              "      <td>6</td>\n",
              "      <td>Master</td>\n",
              "      <td>Average</td>\n",
              "      <td>8</td>\n",
              "      <td>Yes</td>\n",
              "      <td>56.2</td>\n",
              "    </tr>\n",
              "    <tr>\n",
              "      <th>1</th>\n",
              "      <td>S1001</td>\n",
              "      <td>20</td>\n",
              "      <td>Female</td>\n",
              "      <td>6.9</td>\n",
              "      <td>2.8</td>\n",
              "      <td>2.3</td>\n",
              "      <td>No</td>\n",
              "      <td>97.3</td>\n",
              "      <td>4.6</td>\n",
              "      <td>Good</td>\n",
              "      <td>6</td>\n",
              "      <td>High School</td>\n",
              "      <td>Average</td>\n",
              "      <td>8</td>\n",
              "      <td>No</td>\n",
              "      <td>100.0</td>\n",
              "    </tr>\n",
              "    <tr>\n",
              "      <th>2</th>\n",
              "      <td>S1002</td>\n",
              "      <td>21</td>\n",
              "      <td>Male</td>\n",
              "      <td>1.4</td>\n",
              "      <td>3.1</td>\n",
              "      <td>1.3</td>\n",
              "      <td>No</td>\n",
              "      <td>94.8</td>\n",
              "      <td>8.0</td>\n",
              "      <td>Poor</td>\n",
              "      <td>1</td>\n",
              "      <td>High School</td>\n",
              "      <td>Poor</td>\n",
              "      <td>1</td>\n",
              "      <td>No</td>\n",
              "      <td>34.3</td>\n",
              "    </tr>\n",
              "    <tr>\n",
              "      <th>3</th>\n",
              "      <td>S1003</td>\n",
              "      <td>23</td>\n",
              "      <td>Female</td>\n",
              "      <td>1.0</td>\n",
              "      <td>3.9</td>\n",
              "      <td>1.0</td>\n",
              "      <td>No</td>\n",
              "      <td>71.0</td>\n",
              "      <td>9.2</td>\n",
              "      <td>Poor</td>\n",
              "      <td>4</td>\n",
              "      <td>Master</td>\n",
              "      <td>Good</td>\n",
              "      <td>1</td>\n",
              "      <td>Yes</td>\n",
              "      <td>26.8</td>\n",
              "    </tr>\n",
              "    <tr>\n",
              "      <th>4</th>\n",
              "      <td>S1004</td>\n",
              "      <td>19</td>\n",
              "      <td>Female</td>\n",
              "      <td>5.0</td>\n",
              "      <td>4.4</td>\n",
              "      <td>0.5</td>\n",
              "      <td>No</td>\n",
              "      <td>90.9</td>\n",
              "      <td>4.9</td>\n",
              "      <td>Fair</td>\n",
              "      <td>3</td>\n",
              "      <td>Master</td>\n",
              "      <td>Good</td>\n",
              "      <td>1</td>\n",
              "      <td>No</td>\n",
              "      <td>66.4</td>\n",
              "    </tr>\n",
              "  </tbody>\n",
              "</table>\n",
              "</div>\n",
              "    <div class=\"colab-df-buttons\">\n",
              "\n",
              "  <div class=\"colab-df-container\">\n",
              "    <button class=\"colab-df-convert\" onclick=\"convertToInteractive('df-292cf1cf-0514-4153-be13-952e9095c9aa')\"\n",
              "            title=\"Convert this dataframe to an interactive table.\"\n",
              "            style=\"display:none;\">\n",
              "\n",
              "  <svg xmlns=\"http://www.w3.org/2000/svg\" height=\"24px\" viewBox=\"0 -960 960 960\">\n",
              "    <path d=\"M120-120v-720h720v720H120Zm60-500h600v-160H180v160Zm220 220h160v-160H400v160Zm0 220h160v-160H400v160ZM180-400h160v-160H180v160Zm440 0h160v-160H620v160ZM180-180h160v-160H180v160Zm440 0h160v-160H620v160Z\"/>\n",
              "  </svg>\n",
              "    </button>\n",
              "\n",
              "  <style>\n",
              "    .colab-df-container {\n",
              "      display:flex;\n",
              "      gap: 12px;\n",
              "    }\n",
              "\n",
              "    .colab-df-convert {\n",
              "      background-color: #E8F0FE;\n",
              "      border: none;\n",
              "      border-radius: 50%;\n",
              "      cursor: pointer;\n",
              "      display: none;\n",
              "      fill: #1967D2;\n",
              "      height: 32px;\n",
              "      padding: 0 0 0 0;\n",
              "      width: 32px;\n",
              "    }\n",
              "\n",
              "    .colab-df-convert:hover {\n",
              "      background-color: #E2EBFA;\n",
              "      box-shadow: 0px 1px 2px rgba(60, 64, 67, 0.3), 0px 1px 3px 1px rgba(60, 64, 67, 0.15);\n",
              "      fill: #174EA6;\n",
              "    }\n",
              "\n",
              "    .colab-df-buttons div {\n",
              "      margin-bottom: 4px;\n",
              "    }\n",
              "\n",
              "    [theme=dark] .colab-df-convert {\n",
              "      background-color: #3B4455;\n",
              "      fill: #D2E3FC;\n",
              "    }\n",
              "\n",
              "    [theme=dark] .colab-df-convert:hover {\n",
              "      background-color: #434B5C;\n",
              "      box-shadow: 0px 1px 3px 1px rgba(0, 0, 0, 0.15);\n",
              "      filter: drop-shadow(0px 1px 2px rgba(0, 0, 0, 0.3));\n",
              "      fill: #FFFFFF;\n",
              "    }\n",
              "  </style>\n",
              "\n",
              "    <script>\n",
              "      const buttonEl =\n",
              "        document.querySelector('#df-292cf1cf-0514-4153-be13-952e9095c9aa button.colab-df-convert');\n",
              "      buttonEl.style.display =\n",
              "        google.colab.kernel.accessAllowed ? 'block' : 'none';\n",
              "\n",
              "      async function convertToInteractive(key) {\n",
              "        const element = document.querySelector('#df-292cf1cf-0514-4153-be13-952e9095c9aa');\n",
              "        const dataTable =\n",
              "          await google.colab.kernel.invokeFunction('convertToInteractive',\n",
              "                                                    [key], {});\n",
              "        if (!dataTable) return;\n",
              "\n",
              "        const docLinkHtml = 'Like what you see? Visit the ' +\n",
              "          '<a target=\"_blank\" href=https://colab.research.google.com/notebooks/data_table.ipynb>data table notebook</a>'\n",
              "          + ' to learn more about interactive tables.';\n",
              "        element.innerHTML = '';\n",
              "        dataTable['output_type'] = 'display_data';\n",
              "        await google.colab.output.renderOutput(dataTable, element);\n",
              "        const docLink = document.createElement('div');\n",
              "        docLink.innerHTML = docLinkHtml;\n",
              "        element.appendChild(docLink);\n",
              "      }\n",
              "    </script>\n",
              "  </div>\n",
              "\n",
              "\n",
              "    <div id=\"df-4493cbb4-202e-4049-80b2-198b1bb1424b\">\n",
              "      <button class=\"colab-df-quickchart\" onclick=\"quickchart('df-4493cbb4-202e-4049-80b2-198b1bb1424b')\"\n",
              "                title=\"Suggest charts\"\n",
              "                style=\"display:none;\">\n",
              "\n",
              "<svg xmlns=\"http://www.w3.org/2000/svg\" height=\"24px\"viewBox=\"0 0 24 24\"\n",
              "     width=\"24px\">\n",
              "    <g>\n",
              "        <path d=\"M19 3H5c-1.1 0-2 .9-2 2v14c0 1.1.9 2 2 2h14c1.1 0 2-.9 2-2V5c0-1.1-.9-2-2-2zM9 17H7v-7h2v7zm4 0h-2V7h2v10zm4 0h-2v-4h2v4z\"/>\n",
              "    </g>\n",
              "</svg>\n",
              "      </button>\n",
              "\n",
              "<style>\n",
              "  .colab-df-quickchart {\n",
              "      --bg-color: #E8F0FE;\n",
              "      --fill-color: #1967D2;\n",
              "      --hover-bg-color: #E2EBFA;\n",
              "      --hover-fill-color: #174EA6;\n",
              "      --disabled-fill-color: #AAA;\n",
              "      --disabled-bg-color: #DDD;\n",
              "  }\n",
              "\n",
              "  [theme=dark] .colab-df-quickchart {\n",
              "      --bg-color: #3B4455;\n",
              "      --fill-color: #D2E3FC;\n",
              "      --hover-bg-color: #434B5C;\n",
              "      --hover-fill-color: #FFFFFF;\n",
              "      --disabled-bg-color: #3B4455;\n",
              "      --disabled-fill-color: #666;\n",
              "  }\n",
              "\n",
              "  .colab-df-quickchart {\n",
              "    background-color: var(--bg-color);\n",
              "    border: none;\n",
              "    border-radius: 50%;\n",
              "    cursor: pointer;\n",
              "    display: none;\n",
              "    fill: var(--fill-color);\n",
              "    height: 32px;\n",
              "    padding: 0;\n",
              "    width: 32px;\n",
              "  }\n",
              "\n",
              "  .colab-df-quickchart:hover {\n",
              "    background-color: var(--hover-bg-color);\n",
              "    box-shadow: 0 1px 2px rgba(60, 64, 67, 0.3), 0 1px 3px 1px rgba(60, 64, 67, 0.15);\n",
              "    fill: var(--button-hover-fill-color);\n",
              "  }\n",
              "\n",
              "  .colab-df-quickchart-complete:disabled,\n",
              "  .colab-df-quickchart-complete:disabled:hover {\n",
              "    background-color: var(--disabled-bg-color);\n",
              "    fill: var(--disabled-fill-color);\n",
              "    box-shadow: none;\n",
              "  }\n",
              "\n",
              "  .colab-df-spinner {\n",
              "    border: 2px solid var(--fill-color);\n",
              "    border-color: transparent;\n",
              "    border-bottom-color: var(--fill-color);\n",
              "    animation:\n",
              "      spin 1s steps(1) infinite;\n",
              "  }\n",
              "\n",
              "  @keyframes spin {\n",
              "    0% {\n",
              "      border-color: transparent;\n",
              "      border-bottom-color: var(--fill-color);\n",
              "      border-left-color: var(--fill-color);\n",
              "    }\n",
              "    20% {\n",
              "      border-color: transparent;\n",
              "      border-left-color: var(--fill-color);\n",
              "      border-top-color: var(--fill-color);\n",
              "    }\n",
              "    30% {\n",
              "      border-color: transparent;\n",
              "      border-left-color: var(--fill-color);\n",
              "      border-top-color: var(--fill-color);\n",
              "      border-right-color: var(--fill-color);\n",
              "    }\n",
              "    40% {\n",
              "      border-color: transparent;\n",
              "      border-right-color: var(--fill-color);\n",
              "      border-top-color: var(--fill-color);\n",
              "    }\n",
              "    60% {\n",
              "      border-color: transparent;\n",
              "      border-right-color: var(--fill-color);\n",
              "    }\n",
              "    80% {\n",
              "      border-color: transparent;\n",
              "      border-right-color: var(--fill-color);\n",
              "      border-bottom-color: var(--fill-color);\n",
              "    }\n",
              "    90% {\n",
              "      border-color: transparent;\n",
              "      border-bottom-color: var(--fill-color);\n",
              "    }\n",
              "  }\n",
              "</style>\n",
              "\n",
              "      <script>\n",
              "        async function quickchart(key) {\n",
              "          const quickchartButtonEl =\n",
              "            document.querySelector('#' + key + ' button');\n",
              "          quickchartButtonEl.disabled = true;  // To prevent multiple clicks.\n",
              "          quickchartButtonEl.classList.add('colab-df-spinner');\n",
              "          try {\n",
              "            const charts = await google.colab.kernel.invokeFunction(\n",
              "                'suggestCharts', [key], {});\n",
              "          } catch (error) {\n",
              "            console.error('Error during call to suggestCharts:', error);\n",
              "          }\n",
              "          quickchartButtonEl.classList.remove('colab-df-spinner');\n",
              "          quickchartButtonEl.classList.add('colab-df-quickchart-complete');\n",
              "        }\n",
              "        (() => {\n",
              "          let quickchartButtonEl =\n",
              "            document.querySelector('#df-4493cbb4-202e-4049-80b2-198b1bb1424b button');\n",
              "          quickchartButtonEl.style.display =\n",
              "            google.colab.kernel.accessAllowed ? 'block' : 'none';\n",
              "        })();\n",
              "      </script>\n",
              "    </div>\n",
              "\n",
              "    </div>\n",
              "  </div>\n"
            ],
            "application/vnd.google.colaboratory.intrinsic+json": {
              "type": "dataframe",
              "variable_name": "df",
              "summary": "{\n  \"name\": \"df\",\n  \"rows\": 1000,\n  \"fields\": [\n    {\n      \"column\": \"student_id\",\n      \"properties\": {\n        \"dtype\": \"string\",\n        \"num_unique_values\": 1000,\n        \"samples\": [\n          \"S1521\",\n          \"S1737\",\n          \"S1740\"\n        ],\n        \"semantic_type\": \"\",\n        \"description\": \"\"\n      }\n    },\n    {\n      \"column\": \"age\",\n      \"properties\": {\n        \"dtype\": \"number\",\n        \"std\": 2,\n        \"min\": 17,\n        \"max\": 24,\n        \"num_unique_values\": 8,\n        \"samples\": [\n          20,\n          18,\n          23\n        ],\n        \"semantic_type\": \"\",\n        \"description\": \"\"\n      }\n    },\n    {\n      \"column\": \"gender\",\n      \"properties\": {\n        \"dtype\": \"category\",\n        \"num_unique_values\": 3,\n        \"samples\": [\n          \"Female\",\n          \"Male\",\n          \"Other\"\n        ],\n        \"semantic_type\": \"\",\n        \"description\": \"\"\n      }\n    },\n    {\n      \"column\": \"study_hours_per_day\",\n      \"properties\": {\n        \"dtype\": \"number\",\n        \"std\": 1.4688899303990155,\n        \"min\": 0.0,\n        \"max\": 8.3,\n        \"num_unique_values\": 78,\n        \"samples\": [\n          5.4,\n          0.0,\n          2.2\n        ],\n        \"semantic_type\": \"\",\n        \"description\": \"\"\n      }\n    },\n    {\n      \"column\": \"social_media_hours\",\n      \"properties\": {\n        \"dtype\": \"number\",\n        \"std\": 1.1724224171877315,\n        \"min\": 0.0,\n        \"max\": 7.2,\n        \"num_unique_values\": 60,\n        \"samples\": [\n          1.2,\n          1.3,\n          0.1\n        ],\n        \"semantic_type\": \"\",\n        \"description\": \"\"\n      }\n    },\n    {\n      \"column\": \"netflix_hours\",\n      \"properties\": {\n        \"dtype\": \"number\",\n        \"std\": 1.0751175692861612,\n        \"min\": 0.0,\n        \"max\": 5.4,\n        \"num_unique_values\": 51,\n        \"samples\": [\n          0.3,\n          3.7,\n          4.6\n        ],\n        \"semantic_type\": \"\",\n        \"description\": \"\"\n      }\n    },\n    {\n      \"column\": \"part_time_job\",\n      \"properties\": {\n        \"dtype\": \"category\",\n        \"num_unique_values\": 2,\n        \"samples\": [\n          \"Yes\",\n          \"No\"\n        ],\n        \"semantic_type\": \"\",\n        \"description\": \"\"\n      }\n    },\n    {\n      \"column\": \"attendance_percentage\",\n      \"properties\": {\n        \"dtype\": \"number\",\n        \"std\": 9.399246296429354,\n        \"min\": 56.0,\n        \"max\": 100.0,\n        \"num_unique_values\": 320,\n        \"samples\": [\n          75.7,\n          90.3\n        ],\n        \"semantic_type\": \"\",\n        \"description\": \"\"\n      }\n    },\n    {\n      \"column\": \"sleep_hours\",\n      \"properties\": {\n        \"dtype\": \"number\",\n        \"std\": 1.226376773259339,\n        \"min\": 3.2,\n        \"max\": 10.0,\n        \"num_unique_values\": 68,\n        \"samples\": [\n          8.2,\n          6.0\n        ],\n        \"semantic_type\": \"\",\n        \"description\": \"\"\n      }\n    },\n    {\n      \"column\": \"diet_quality\",\n      \"properties\": {\n        \"dtype\": \"category\",\n        \"num_unique_values\": 3,\n        \"samples\": [\n          \"Fair\",\n          \"Good\"\n        ],\n        \"semantic_type\": \"\",\n        \"description\": \"\"\n      }\n    },\n    {\n      \"column\": \"exercise_frequency\",\n      \"properties\": {\n        \"dtype\": \"number\",\n        \"std\": 2,\n        \"min\": 0,\n        \"max\": 6,\n        \"num_unique_values\": 7,\n        \"samples\": [\n          6,\n          1\n        ],\n        \"semantic_type\": \"\",\n        \"description\": \"\"\n      }\n    },\n    {\n      \"column\": \"parental_education_level\",\n      \"properties\": {\n        \"dtype\": \"category\",\n        \"num_unique_values\": 3,\n        \"samples\": [\n          \"Master\",\n          \"High School\"\n        ],\n        \"semantic_type\": \"\",\n        \"description\": \"\"\n      }\n    },\n    {\n      \"column\": \"internet_quality\",\n      \"properties\": {\n        \"dtype\": \"category\",\n        \"num_unique_values\": 3,\n        \"samples\": [\n          \"Average\",\n          \"Poor\"\n        ],\n        \"semantic_type\": \"\",\n        \"description\": \"\"\n      }\n    },\n    {\n      \"column\": \"mental_health_rating\",\n      \"properties\": {\n        \"dtype\": \"number\",\n        \"std\": 2,\n        \"min\": 1,\n        \"max\": 10,\n        \"num_unique_values\": 10,\n        \"samples\": [\n          2,\n          1\n        ],\n        \"semantic_type\": \"\",\n        \"description\": \"\"\n      }\n    },\n    {\n      \"column\": \"extracurricular_participation\",\n      \"properties\": {\n        \"dtype\": \"category\",\n        \"num_unique_values\": 2,\n        \"samples\": [\n          \"No\",\n          \"Yes\"\n        ],\n        \"semantic_type\": \"\",\n        \"description\": \"\"\n      }\n    },\n    {\n      \"column\": \"exam_score\",\n      \"properties\": {\n        \"dtype\": \"number\",\n        \"std\": 16.88856392181825,\n        \"min\": 18.4,\n        \"max\": 100.0,\n        \"num_unique_values\": 480,\n        \"samples\": [\n          53.5,\n          59.3\n        ],\n        \"semantic_type\": \"\",\n        \"description\": \"\"\n      }\n    }\n  ]\n}"
            }
          },
          "metadata": {},
          "execution_count": 28
        }
      ],
      "source": [
        "# Import libraries\n",
        "import pandas as pd\n",
        "import seaborn as sns\n",
        "import matplotlib.pyplot as plt\n",
        "\n",
        "# Load the dataset (upload the CSV file)\n",
        "from google.colab import files\n",
        "uploaded = files.upload()\n",
        "\n",
        "# Read dataset\n",
        "df = pd.read_csv(\"student_performance_data.csv\")\n",
        "df.head()"
      ]
    },
    {
      "cell_type": "markdown",
      "source": [
        "### Overview of the dataset:\n",
        "This dataset contains information about students, including their demographics (age, gender), academic habits (study hours, attendance, extracurriculars, exam scores), lifestyle factors (social media, Netflix, sleep, exercise, diet, internet quality), and other attributes (part-time job, parental education, mental health rating)."
      ],
      "metadata": {
        "id": "vx4iqsln8V2k"
      }
    },
    {
      "cell_type": "markdown",
      "source": [
        "### Step 2: Basic Data Info"
      ],
      "metadata": {
        "id": "dASmYIJQ8eMV"
      }
    },
    {
      "cell_type": "code",
      "source": [
        "# Basic structure\n",
        "df.shape  # rows, columns\n",
        "\n",
        "# Data types and null values\n",
        "df.info()\n",
        "\n",
        "# Check null values\n",
        "df.isnull().sum()\n"
      ],
      "metadata": {
        "colab": {
          "base_uri": "https://localhost:8080/",
          "height": 985
        },
        "id": "mair6XoI8YpO",
        "outputId": "ece0c06c-315d-488d-f40b-587036f2bb96"
      },
      "execution_count": 29,
      "outputs": [
        {
          "output_type": "stream",
          "name": "stdout",
          "text": [
            "<class 'pandas.core.frame.DataFrame'>\n",
            "RangeIndex: 1000 entries, 0 to 999\n",
            "Data columns (total 16 columns):\n",
            " #   Column                         Non-Null Count  Dtype  \n",
            "---  ------                         --------------  -----  \n",
            " 0   student_id                     1000 non-null   object \n",
            " 1   age                            1000 non-null   int64  \n",
            " 2   gender                         1000 non-null   object \n",
            " 3   study_hours_per_day            1000 non-null   float64\n",
            " 4   social_media_hours             1000 non-null   float64\n",
            " 5   netflix_hours                  1000 non-null   float64\n",
            " 6   part_time_job                  1000 non-null   object \n",
            " 7   attendance_percentage          1000 non-null   float64\n",
            " 8   sleep_hours                    1000 non-null   float64\n",
            " 9   diet_quality                   1000 non-null   object \n",
            " 10  exercise_frequency             1000 non-null   int64  \n",
            " 11  parental_education_level       909 non-null    object \n",
            " 12  internet_quality               1000 non-null   object \n",
            " 13  mental_health_rating           1000 non-null   int64  \n",
            " 14  extracurricular_participation  1000 non-null   object \n",
            " 15  exam_score                     1000 non-null   float64\n",
            "dtypes: float64(6), int64(3), object(7)\n",
            "memory usage: 125.1+ KB\n"
          ]
        },
        {
          "output_type": "execute_result",
          "data": {
            "text/plain": [
              "student_id                        0\n",
              "age                               0\n",
              "gender                            0\n",
              "study_hours_per_day               0\n",
              "social_media_hours                0\n",
              "netflix_hours                     0\n",
              "part_time_job                     0\n",
              "attendance_percentage             0\n",
              "sleep_hours                       0\n",
              "diet_quality                      0\n",
              "exercise_frequency                0\n",
              "parental_education_level         91\n",
              "internet_quality                  0\n",
              "mental_health_rating              0\n",
              "extracurricular_participation     0\n",
              "exam_score                        0\n",
              "dtype: int64"
            ],
            "text/html": [
              "<div>\n",
              "<style scoped>\n",
              "    .dataframe tbody tr th:only-of-type {\n",
              "        vertical-align: middle;\n",
              "    }\n",
              "\n",
              "    .dataframe tbody tr th {\n",
              "        vertical-align: top;\n",
              "    }\n",
              "\n",
              "    .dataframe thead th {\n",
              "        text-align: right;\n",
              "    }\n",
              "</style>\n",
              "<table border=\"1\" class=\"dataframe\">\n",
              "  <thead>\n",
              "    <tr style=\"text-align: right;\">\n",
              "      <th></th>\n",
              "      <th>0</th>\n",
              "    </tr>\n",
              "  </thead>\n",
              "  <tbody>\n",
              "    <tr>\n",
              "      <th>student_id</th>\n",
              "      <td>0</td>\n",
              "    </tr>\n",
              "    <tr>\n",
              "      <th>age</th>\n",
              "      <td>0</td>\n",
              "    </tr>\n",
              "    <tr>\n",
              "      <th>gender</th>\n",
              "      <td>0</td>\n",
              "    </tr>\n",
              "    <tr>\n",
              "      <th>study_hours_per_day</th>\n",
              "      <td>0</td>\n",
              "    </tr>\n",
              "    <tr>\n",
              "      <th>social_media_hours</th>\n",
              "      <td>0</td>\n",
              "    </tr>\n",
              "    <tr>\n",
              "      <th>netflix_hours</th>\n",
              "      <td>0</td>\n",
              "    </tr>\n",
              "    <tr>\n",
              "      <th>part_time_job</th>\n",
              "      <td>0</td>\n",
              "    </tr>\n",
              "    <tr>\n",
              "      <th>attendance_percentage</th>\n",
              "      <td>0</td>\n",
              "    </tr>\n",
              "    <tr>\n",
              "      <th>sleep_hours</th>\n",
              "      <td>0</td>\n",
              "    </tr>\n",
              "    <tr>\n",
              "      <th>diet_quality</th>\n",
              "      <td>0</td>\n",
              "    </tr>\n",
              "    <tr>\n",
              "      <th>exercise_frequency</th>\n",
              "      <td>0</td>\n",
              "    </tr>\n",
              "    <tr>\n",
              "      <th>parental_education_level</th>\n",
              "      <td>91</td>\n",
              "    </tr>\n",
              "    <tr>\n",
              "      <th>internet_quality</th>\n",
              "      <td>0</td>\n",
              "    </tr>\n",
              "    <tr>\n",
              "      <th>mental_health_rating</th>\n",
              "      <td>0</td>\n",
              "    </tr>\n",
              "    <tr>\n",
              "      <th>extracurricular_participation</th>\n",
              "      <td>0</td>\n",
              "    </tr>\n",
              "    <tr>\n",
              "      <th>exam_score</th>\n",
              "      <td>0</td>\n",
              "    </tr>\n",
              "  </tbody>\n",
              "</table>\n",
              "</div><br><label><b>dtype:</b> int64</label>"
            ]
          },
          "metadata": {},
          "execution_count": 29
        }
      ]
    },
    {
      "cell_type": "markdown",
      "source": [
        "### Interpretaion:\n",
        "This dataset, with 1000 entries and 16 columns, captures various student attributes. Notably, parental_education_level has 91 missing values, requiring attention during data wrangling. All other columns are complete. The dataset includes a mix of numerical (e.g., age, study hours, exam score) and categorical (e.g., gender, diet quality, internet quality) data, offering scope to analyze how lifestyle and background factors relate to academic performance and well-being."
      ],
      "metadata": {
        "id": "kgPpiphD8_ZX"
      }
    },
    {
      "cell_type": "markdown",
      "source": [
        "### Step 3: Data cleaning"
      ],
      "metadata": {
        "id": "M1lgG0J3-u6v"
      }
    },
    {
      "cell_type": "markdown",
      "source": [
        "### 1. Fill Missing Values in parental_education"
      ],
      "metadata": {
        "id": "Kc2XCEbvzprz"
      }
    },
    {
      "cell_type": "code",
      "source": [
        "# Fill missing values with the most frequent value (mode)\n",
        "mode_value = df['parental_education_level'].mode()[0]\n",
        "df['parental_education_level'].fillna(mode_value, inplace=True)\n"
      ],
      "metadata": {
        "id": "EBOOtVch8izl",
        "colab": {
          "base_uri": "https://localhost:8080/"
        },
        "outputId": "856322fe-e464-4224-d63c-4ce810f5ae44"
      },
      "execution_count": 30,
      "outputs": [
        {
          "output_type": "stream",
          "name": "stderr",
          "text": [
            "/tmp/ipython-input-30-511154926.py:3: FutureWarning: A value is trying to be set on a copy of a DataFrame or Series through chained assignment using an inplace method.\n",
            "The behavior will change in pandas 3.0. This inplace method will never work because the intermediate object on which we are setting values always behaves as a copy.\n",
            "\n",
            "For example, when doing 'df[col].method(value, inplace=True)', try using 'df.method({col: value}, inplace=True)' or df[col] = df[col].method(value) instead, to perform the operation inplace on the original object.\n",
            "\n",
            "\n",
            "  df['parental_education_level'].fillna(mode_value, inplace=True)\n"
          ]
        }
      ]
    },
    {
      "cell_type": "markdown",
      "source": [
        "### Interpretation:\n",
        "\n",
        "We should handle the missing values. Keeping them as they are will prevent you from fully analyzing the parental_education_level column and might skew any insights you try to derive from it.\n",
        "\n",
        " Imputing with the mode for the parental_education_level column (which is categorical) is the recommended approach. This allows you to include all data points in your analysis and uncover potential patterns related to parental education."
      ],
      "metadata": {
        "id": "AiR14bye0noe"
      }
    },
    {
      "cell_type": "markdown",
      "source": [
        "###  2.Encode Binary Columns (Yes/No)"
      ],
      "metadata": {
        "id": "HBa0YXYu1qqU"
      }
    },
    {
      "cell_type": "code",
      "source": [
        "# Convert 'Yes'/'No' to 1/0\n",
        "df['part_time_job'] = df['part_time_job'].map({'Yes': 1, 'No': 0})\n",
        "df['extracurricular_participation'] = df['extracurricular_participation'].map({'Yes': 1, 'No': 0})\n",
        "df.head()\n",
        "\n"
      ],
      "metadata": {
        "colab": {
          "base_uri": "https://localhost:8080/",
          "height": 226
        },
        "id": "8AQC_ry4z2JW",
        "outputId": "6c50eeb9-df43-49b8-dff2-92b2480a033a"
      },
      "execution_count": 31,
      "outputs": [
        {
          "output_type": "execute_result",
          "data": {
            "text/plain": [
              "  student_id  age  gender  study_hours_per_day  social_media_hours  \\\n",
              "0      S1000   23  Female                  0.0                 1.2   \n",
              "1      S1001   20  Female                  6.9                 2.8   \n",
              "2      S1002   21    Male                  1.4                 3.1   \n",
              "3      S1003   23  Female                  1.0                 3.9   \n",
              "4      S1004   19  Female                  5.0                 4.4   \n",
              "\n",
              "   netflix_hours  part_time_job  attendance_percentage  sleep_hours  \\\n",
              "0            1.1              0                   85.0          8.0   \n",
              "1            2.3              0                   97.3          4.6   \n",
              "2            1.3              0                   94.8          8.0   \n",
              "3            1.0              0                   71.0          9.2   \n",
              "4            0.5              0                   90.9          4.9   \n",
              "\n",
              "  diet_quality  exercise_frequency parental_education_level internet_quality  \\\n",
              "0         Fair                   6                   Master          Average   \n",
              "1         Good                   6              High School          Average   \n",
              "2         Poor                   1              High School             Poor   \n",
              "3         Poor                   4                   Master             Good   \n",
              "4         Fair                   3                   Master             Good   \n",
              "\n",
              "   mental_health_rating  extracurricular_participation  exam_score  \n",
              "0                     8                              1        56.2  \n",
              "1                     8                              0       100.0  \n",
              "2                     1                              0        34.3  \n",
              "3                     1                              1        26.8  \n",
              "4                     1                              0        66.4  "
            ],
            "text/html": [
              "\n",
              "  <div id=\"df-74198bad-e3bb-4bcf-955f-31bca68d4e21\" class=\"colab-df-container\">\n",
              "    <div>\n",
              "<style scoped>\n",
              "    .dataframe tbody tr th:only-of-type {\n",
              "        vertical-align: middle;\n",
              "    }\n",
              "\n",
              "    .dataframe tbody tr th {\n",
              "        vertical-align: top;\n",
              "    }\n",
              "\n",
              "    .dataframe thead th {\n",
              "        text-align: right;\n",
              "    }\n",
              "</style>\n",
              "<table border=\"1\" class=\"dataframe\">\n",
              "  <thead>\n",
              "    <tr style=\"text-align: right;\">\n",
              "      <th></th>\n",
              "      <th>student_id</th>\n",
              "      <th>age</th>\n",
              "      <th>gender</th>\n",
              "      <th>study_hours_per_day</th>\n",
              "      <th>social_media_hours</th>\n",
              "      <th>netflix_hours</th>\n",
              "      <th>part_time_job</th>\n",
              "      <th>attendance_percentage</th>\n",
              "      <th>sleep_hours</th>\n",
              "      <th>diet_quality</th>\n",
              "      <th>exercise_frequency</th>\n",
              "      <th>parental_education_level</th>\n",
              "      <th>internet_quality</th>\n",
              "      <th>mental_health_rating</th>\n",
              "      <th>extracurricular_participation</th>\n",
              "      <th>exam_score</th>\n",
              "    </tr>\n",
              "  </thead>\n",
              "  <tbody>\n",
              "    <tr>\n",
              "      <th>0</th>\n",
              "      <td>S1000</td>\n",
              "      <td>23</td>\n",
              "      <td>Female</td>\n",
              "      <td>0.0</td>\n",
              "      <td>1.2</td>\n",
              "      <td>1.1</td>\n",
              "      <td>0</td>\n",
              "      <td>85.0</td>\n",
              "      <td>8.0</td>\n",
              "      <td>Fair</td>\n",
              "      <td>6</td>\n",
              "      <td>Master</td>\n",
              "      <td>Average</td>\n",
              "      <td>8</td>\n",
              "      <td>1</td>\n",
              "      <td>56.2</td>\n",
              "    </tr>\n",
              "    <tr>\n",
              "      <th>1</th>\n",
              "      <td>S1001</td>\n",
              "      <td>20</td>\n",
              "      <td>Female</td>\n",
              "      <td>6.9</td>\n",
              "      <td>2.8</td>\n",
              "      <td>2.3</td>\n",
              "      <td>0</td>\n",
              "      <td>97.3</td>\n",
              "      <td>4.6</td>\n",
              "      <td>Good</td>\n",
              "      <td>6</td>\n",
              "      <td>High School</td>\n",
              "      <td>Average</td>\n",
              "      <td>8</td>\n",
              "      <td>0</td>\n",
              "      <td>100.0</td>\n",
              "    </tr>\n",
              "    <tr>\n",
              "      <th>2</th>\n",
              "      <td>S1002</td>\n",
              "      <td>21</td>\n",
              "      <td>Male</td>\n",
              "      <td>1.4</td>\n",
              "      <td>3.1</td>\n",
              "      <td>1.3</td>\n",
              "      <td>0</td>\n",
              "      <td>94.8</td>\n",
              "      <td>8.0</td>\n",
              "      <td>Poor</td>\n",
              "      <td>1</td>\n",
              "      <td>High School</td>\n",
              "      <td>Poor</td>\n",
              "      <td>1</td>\n",
              "      <td>0</td>\n",
              "      <td>34.3</td>\n",
              "    </tr>\n",
              "    <tr>\n",
              "      <th>3</th>\n",
              "      <td>S1003</td>\n",
              "      <td>23</td>\n",
              "      <td>Female</td>\n",
              "      <td>1.0</td>\n",
              "      <td>3.9</td>\n",
              "      <td>1.0</td>\n",
              "      <td>0</td>\n",
              "      <td>71.0</td>\n",
              "      <td>9.2</td>\n",
              "      <td>Poor</td>\n",
              "      <td>4</td>\n",
              "      <td>Master</td>\n",
              "      <td>Good</td>\n",
              "      <td>1</td>\n",
              "      <td>1</td>\n",
              "      <td>26.8</td>\n",
              "    </tr>\n",
              "    <tr>\n",
              "      <th>4</th>\n",
              "      <td>S1004</td>\n",
              "      <td>19</td>\n",
              "      <td>Female</td>\n",
              "      <td>5.0</td>\n",
              "      <td>4.4</td>\n",
              "      <td>0.5</td>\n",
              "      <td>0</td>\n",
              "      <td>90.9</td>\n",
              "      <td>4.9</td>\n",
              "      <td>Fair</td>\n",
              "      <td>3</td>\n",
              "      <td>Master</td>\n",
              "      <td>Good</td>\n",
              "      <td>1</td>\n",
              "      <td>0</td>\n",
              "      <td>66.4</td>\n",
              "    </tr>\n",
              "  </tbody>\n",
              "</table>\n",
              "</div>\n",
              "    <div class=\"colab-df-buttons\">\n",
              "\n",
              "  <div class=\"colab-df-container\">\n",
              "    <button class=\"colab-df-convert\" onclick=\"convertToInteractive('df-74198bad-e3bb-4bcf-955f-31bca68d4e21')\"\n",
              "            title=\"Convert this dataframe to an interactive table.\"\n",
              "            style=\"display:none;\">\n",
              "\n",
              "  <svg xmlns=\"http://www.w3.org/2000/svg\" height=\"24px\" viewBox=\"0 -960 960 960\">\n",
              "    <path d=\"M120-120v-720h720v720H120Zm60-500h600v-160H180v160Zm220 220h160v-160H400v160Zm0 220h160v-160H400v160ZM180-400h160v-160H180v160Zm440 0h160v-160H620v160ZM180-180h160v-160H180v160Zm440 0h160v-160H620v160Z\"/>\n",
              "  </svg>\n",
              "    </button>\n",
              "\n",
              "  <style>\n",
              "    .colab-df-container {\n",
              "      display:flex;\n",
              "      gap: 12px;\n",
              "    }\n",
              "\n",
              "    .colab-df-convert {\n",
              "      background-color: #E8F0FE;\n",
              "      border: none;\n",
              "      border-radius: 50%;\n",
              "      cursor: pointer;\n",
              "      display: none;\n",
              "      fill: #1967D2;\n",
              "      height: 32px;\n",
              "      padding: 0 0 0 0;\n",
              "      width: 32px;\n",
              "    }\n",
              "\n",
              "    .colab-df-convert:hover {\n",
              "      background-color: #E2EBFA;\n",
              "      box-shadow: 0px 1px 2px rgba(60, 64, 67, 0.3), 0px 1px 3px 1px rgba(60, 64, 67, 0.15);\n",
              "      fill: #174EA6;\n",
              "    }\n",
              "\n",
              "    .colab-df-buttons div {\n",
              "      margin-bottom: 4px;\n",
              "    }\n",
              "\n",
              "    [theme=dark] .colab-df-convert {\n",
              "      background-color: #3B4455;\n",
              "      fill: #D2E3FC;\n",
              "    }\n",
              "\n",
              "    [theme=dark] .colab-df-convert:hover {\n",
              "      background-color: #434B5C;\n",
              "      box-shadow: 0px 1px 3px 1px rgba(0, 0, 0, 0.15);\n",
              "      filter: drop-shadow(0px 1px 2px rgba(0, 0, 0, 0.3));\n",
              "      fill: #FFFFFF;\n",
              "    }\n",
              "  </style>\n",
              "\n",
              "    <script>\n",
              "      const buttonEl =\n",
              "        document.querySelector('#df-74198bad-e3bb-4bcf-955f-31bca68d4e21 button.colab-df-convert');\n",
              "      buttonEl.style.display =\n",
              "        google.colab.kernel.accessAllowed ? 'block' : 'none';\n",
              "\n",
              "      async function convertToInteractive(key) {\n",
              "        const element = document.querySelector('#df-74198bad-e3bb-4bcf-955f-31bca68d4e21');\n",
              "        const dataTable =\n",
              "          await google.colab.kernel.invokeFunction('convertToInteractive',\n",
              "                                                    [key], {});\n",
              "        if (!dataTable) return;\n",
              "\n",
              "        const docLinkHtml = 'Like what you see? Visit the ' +\n",
              "          '<a target=\"_blank\" href=https://colab.research.google.com/notebooks/data_table.ipynb>data table notebook</a>'\n",
              "          + ' to learn more about interactive tables.';\n",
              "        element.innerHTML = '';\n",
              "        dataTable['output_type'] = 'display_data';\n",
              "        await google.colab.output.renderOutput(dataTable, element);\n",
              "        const docLink = document.createElement('div');\n",
              "        docLink.innerHTML = docLinkHtml;\n",
              "        element.appendChild(docLink);\n",
              "      }\n",
              "    </script>\n",
              "  </div>\n",
              "\n",
              "\n",
              "    <div id=\"df-8d553e62-b604-4575-bdf2-ba622e58f109\">\n",
              "      <button class=\"colab-df-quickchart\" onclick=\"quickchart('df-8d553e62-b604-4575-bdf2-ba622e58f109')\"\n",
              "                title=\"Suggest charts\"\n",
              "                style=\"display:none;\">\n",
              "\n",
              "<svg xmlns=\"http://www.w3.org/2000/svg\" height=\"24px\"viewBox=\"0 0 24 24\"\n",
              "     width=\"24px\">\n",
              "    <g>\n",
              "        <path d=\"M19 3H5c-1.1 0-2 .9-2 2v14c0 1.1.9 2 2 2h14c1.1 0 2-.9 2-2V5c0-1.1-.9-2-2-2zM9 17H7v-7h2v7zm4 0h-2V7h2v10zm4 0h-2v-4h2v4z\"/>\n",
              "    </g>\n",
              "</svg>\n",
              "      </button>\n",
              "\n",
              "<style>\n",
              "  .colab-df-quickchart {\n",
              "      --bg-color: #E8F0FE;\n",
              "      --fill-color: #1967D2;\n",
              "      --hover-bg-color: #E2EBFA;\n",
              "      --hover-fill-color: #174EA6;\n",
              "      --disabled-fill-color: #AAA;\n",
              "      --disabled-bg-color: #DDD;\n",
              "  }\n",
              "\n",
              "  [theme=dark] .colab-df-quickchart {\n",
              "      --bg-color: #3B4455;\n",
              "      --fill-color: #D2E3FC;\n",
              "      --hover-bg-color: #434B5C;\n",
              "      --hover-fill-color: #FFFFFF;\n",
              "      --disabled-bg-color: #3B4455;\n",
              "      --disabled-fill-color: #666;\n",
              "  }\n",
              "\n",
              "  .colab-df-quickchart {\n",
              "    background-color: var(--bg-color);\n",
              "    border: none;\n",
              "    border-radius: 50%;\n",
              "    cursor: pointer;\n",
              "    display: none;\n",
              "    fill: var(--fill-color);\n",
              "    height: 32px;\n",
              "    padding: 0;\n",
              "    width: 32px;\n",
              "  }\n",
              "\n",
              "  .colab-df-quickchart:hover {\n",
              "    background-color: var(--hover-bg-color);\n",
              "    box-shadow: 0 1px 2px rgba(60, 64, 67, 0.3), 0 1px 3px 1px rgba(60, 64, 67, 0.15);\n",
              "    fill: var(--button-hover-fill-color);\n",
              "  }\n",
              "\n",
              "  .colab-df-quickchart-complete:disabled,\n",
              "  .colab-df-quickchart-complete:disabled:hover {\n",
              "    background-color: var(--disabled-bg-color);\n",
              "    fill: var(--disabled-fill-color);\n",
              "    box-shadow: none;\n",
              "  }\n",
              "\n",
              "  .colab-df-spinner {\n",
              "    border: 2px solid var(--fill-color);\n",
              "    border-color: transparent;\n",
              "    border-bottom-color: var(--fill-color);\n",
              "    animation:\n",
              "      spin 1s steps(1) infinite;\n",
              "  }\n",
              "\n",
              "  @keyframes spin {\n",
              "    0% {\n",
              "      border-color: transparent;\n",
              "      border-bottom-color: var(--fill-color);\n",
              "      border-left-color: var(--fill-color);\n",
              "    }\n",
              "    20% {\n",
              "      border-color: transparent;\n",
              "      border-left-color: var(--fill-color);\n",
              "      border-top-color: var(--fill-color);\n",
              "    }\n",
              "    30% {\n",
              "      border-color: transparent;\n",
              "      border-left-color: var(--fill-color);\n",
              "      border-top-color: var(--fill-color);\n",
              "      border-right-color: var(--fill-color);\n",
              "    }\n",
              "    40% {\n",
              "      border-color: transparent;\n",
              "      border-right-color: var(--fill-color);\n",
              "      border-top-color: var(--fill-color);\n",
              "    }\n",
              "    60% {\n",
              "      border-color: transparent;\n",
              "      border-right-color: var(--fill-color);\n",
              "    }\n",
              "    80% {\n",
              "      border-color: transparent;\n",
              "      border-right-color: var(--fill-color);\n",
              "      border-bottom-color: var(--fill-color);\n",
              "    }\n",
              "    90% {\n",
              "      border-color: transparent;\n",
              "      border-bottom-color: var(--fill-color);\n",
              "    }\n",
              "  }\n",
              "</style>\n",
              "\n",
              "      <script>\n",
              "        async function quickchart(key) {\n",
              "          const quickchartButtonEl =\n",
              "            document.querySelector('#' + key + ' button');\n",
              "          quickchartButtonEl.disabled = true;  // To prevent multiple clicks.\n",
              "          quickchartButtonEl.classList.add('colab-df-spinner');\n",
              "          try {\n",
              "            const charts = await google.colab.kernel.invokeFunction(\n",
              "                'suggestCharts', [key], {});\n",
              "          } catch (error) {\n",
              "            console.error('Error during call to suggestCharts:', error);\n",
              "          }\n",
              "          quickchartButtonEl.classList.remove('colab-df-spinner');\n",
              "          quickchartButtonEl.classList.add('colab-df-quickchart-complete');\n",
              "        }\n",
              "        (() => {\n",
              "          let quickchartButtonEl =\n",
              "            document.querySelector('#df-8d553e62-b604-4575-bdf2-ba622e58f109 button');\n",
              "          quickchartButtonEl.style.display =\n",
              "            google.colab.kernel.accessAllowed ? 'block' : 'none';\n",
              "        })();\n",
              "      </script>\n",
              "    </div>\n",
              "\n",
              "    </div>\n",
              "  </div>\n"
            ],
            "application/vnd.google.colaboratory.intrinsic+json": {
              "type": "dataframe",
              "variable_name": "df",
              "summary": "{\n  \"name\": \"df\",\n  \"rows\": 1000,\n  \"fields\": [\n    {\n      \"column\": \"student_id\",\n      \"properties\": {\n        \"dtype\": \"string\",\n        \"num_unique_values\": 1000,\n        \"samples\": [\n          \"S1521\",\n          \"S1737\",\n          \"S1740\"\n        ],\n        \"semantic_type\": \"\",\n        \"description\": \"\"\n      }\n    },\n    {\n      \"column\": \"age\",\n      \"properties\": {\n        \"dtype\": \"number\",\n        \"std\": 2,\n        \"min\": 17,\n        \"max\": 24,\n        \"num_unique_values\": 8,\n        \"samples\": [\n          20,\n          18,\n          23\n        ],\n        \"semantic_type\": \"\",\n        \"description\": \"\"\n      }\n    },\n    {\n      \"column\": \"gender\",\n      \"properties\": {\n        \"dtype\": \"category\",\n        \"num_unique_values\": 3,\n        \"samples\": [\n          \"Female\",\n          \"Male\",\n          \"Other\"\n        ],\n        \"semantic_type\": \"\",\n        \"description\": \"\"\n      }\n    },\n    {\n      \"column\": \"study_hours_per_day\",\n      \"properties\": {\n        \"dtype\": \"number\",\n        \"std\": 1.4688899303990155,\n        \"min\": 0.0,\n        \"max\": 8.3,\n        \"num_unique_values\": 78,\n        \"samples\": [\n          5.4,\n          0.0,\n          2.2\n        ],\n        \"semantic_type\": \"\",\n        \"description\": \"\"\n      }\n    },\n    {\n      \"column\": \"social_media_hours\",\n      \"properties\": {\n        \"dtype\": \"number\",\n        \"std\": 1.1724224171877315,\n        \"min\": 0.0,\n        \"max\": 7.2,\n        \"num_unique_values\": 60,\n        \"samples\": [\n          1.2,\n          1.3,\n          0.1\n        ],\n        \"semantic_type\": \"\",\n        \"description\": \"\"\n      }\n    },\n    {\n      \"column\": \"netflix_hours\",\n      \"properties\": {\n        \"dtype\": \"number\",\n        \"std\": 1.0751175692861612,\n        \"min\": 0.0,\n        \"max\": 5.4,\n        \"num_unique_values\": 51,\n        \"samples\": [\n          0.3,\n          3.7,\n          4.6\n        ],\n        \"semantic_type\": \"\",\n        \"description\": \"\"\n      }\n    },\n    {\n      \"column\": \"part_time_job\",\n      \"properties\": {\n        \"dtype\": \"number\",\n        \"std\": 0,\n        \"min\": 0,\n        \"max\": 1,\n        \"num_unique_values\": 2,\n        \"samples\": [\n          1,\n          0\n        ],\n        \"semantic_type\": \"\",\n        \"description\": \"\"\n      }\n    },\n    {\n      \"column\": \"attendance_percentage\",\n      \"properties\": {\n        \"dtype\": \"number\",\n        \"std\": 9.399246296429354,\n        \"min\": 56.0,\n        \"max\": 100.0,\n        \"num_unique_values\": 320,\n        \"samples\": [\n          75.7,\n          90.3\n        ],\n        \"semantic_type\": \"\",\n        \"description\": \"\"\n      }\n    },\n    {\n      \"column\": \"sleep_hours\",\n      \"properties\": {\n        \"dtype\": \"number\",\n        \"std\": 1.226376773259339,\n        \"min\": 3.2,\n        \"max\": 10.0,\n        \"num_unique_values\": 68,\n        \"samples\": [\n          8.2,\n          6.0\n        ],\n        \"semantic_type\": \"\",\n        \"description\": \"\"\n      }\n    },\n    {\n      \"column\": \"diet_quality\",\n      \"properties\": {\n        \"dtype\": \"category\",\n        \"num_unique_values\": 3,\n        \"samples\": [\n          \"Fair\",\n          \"Good\"\n        ],\n        \"semantic_type\": \"\",\n        \"description\": \"\"\n      }\n    },\n    {\n      \"column\": \"exercise_frequency\",\n      \"properties\": {\n        \"dtype\": \"number\",\n        \"std\": 2,\n        \"min\": 0,\n        \"max\": 6,\n        \"num_unique_values\": 7,\n        \"samples\": [\n          6,\n          1\n        ],\n        \"semantic_type\": \"\",\n        \"description\": \"\"\n      }\n    },\n    {\n      \"column\": \"parental_education_level\",\n      \"properties\": {\n        \"dtype\": \"category\",\n        \"num_unique_values\": 3,\n        \"samples\": [\n          \"Master\",\n          \"High School\"\n        ],\n        \"semantic_type\": \"\",\n        \"description\": \"\"\n      }\n    },\n    {\n      \"column\": \"internet_quality\",\n      \"properties\": {\n        \"dtype\": \"category\",\n        \"num_unique_values\": 3,\n        \"samples\": [\n          \"Average\",\n          \"Poor\"\n        ],\n        \"semantic_type\": \"\",\n        \"description\": \"\"\n      }\n    },\n    {\n      \"column\": \"mental_health_rating\",\n      \"properties\": {\n        \"dtype\": \"number\",\n        \"std\": 2,\n        \"min\": 1,\n        \"max\": 10,\n        \"num_unique_values\": 10,\n        \"samples\": [\n          2,\n          1\n        ],\n        \"semantic_type\": \"\",\n        \"description\": \"\"\n      }\n    },\n    {\n      \"column\": \"extracurricular_participation\",\n      \"properties\": {\n        \"dtype\": \"number\",\n        \"std\": 0,\n        \"min\": 0,\n        \"max\": 1,\n        \"num_unique_values\": 2,\n        \"samples\": [\n          0,\n          1\n        ],\n        \"semantic_type\": \"\",\n        \"description\": \"\"\n      }\n    },\n    {\n      \"column\": \"exam_score\",\n      \"properties\": {\n        \"dtype\": \"number\",\n        \"std\": 16.88856392181825,\n        \"min\": 18.4,\n        \"max\": 100.0,\n        \"num_unique_values\": 480,\n        \"samples\": [\n          53.5,\n          59.3\n        ],\n        \"semantic_type\": \"\",\n        \"description\": \"\"\n      }\n    }\n  ]\n}"
            }
          },
          "metadata": {},
          "execution_count": 31
        }
      ]
    },
    {
      "cell_type": "markdown",
      "source": [
        "### Interpretation:\n",
        "Encoding binary 'Yes/No' columns (like part_time_job and extracurricular_participation) into 0s and 1s is beneficial.\n",
        "\n",
        "This allows us to:\n",
        "\n",
        "Calculate correlations with numerical columns (e.g., exam_score).\n",
        "\n",
        "Easily compare group means (e.g., average exam score for students with vs. without a part-time job).\n",
        "\n",
        "Simplify statistical tests if  perform any.\n",
        "\n",
        "While not always strictly necessary for basic counts or direct comparisons, it makes these columns more readily usable in numerical analyses central to understanding relationships in EDA."
      ],
      "metadata": {
        "id": "kt3Qf5x62gt2"
      }
    },
    {
      "cell_type": "markdown",
      "source": [
        "###  3.Remove Duplicates (If Any)"
      ],
      "metadata": {
        "id": "DkK30Uk4215s"
      }
    },
    {
      "cell_type": "code",
      "source": [
        "# Check for duplicates\n",
        "print(\"Duplicate rows:\", df.duplicated().sum())\n"
      ],
      "metadata": {
        "colab": {
          "base_uri": "https://localhost:8080/"
        },
        "id": "zgnMEG4P15Z5",
        "outputId": "10b6149d-0a97-4d54-8ff2-e2b0a5cc1f73"
      },
      "execution_count": 32,
      "outputs": [
        {
          "output_type": "stream",
          "name": "stdout",
          "text": [
            "Duplicate rows: 0\n"
          ]
        }
      ]
    },
    {
      "cell_type": "markdown",
      "source": [
        "### Interpretation:\n",
        "Imagine if one student's information was accidentally entered twice. If you don't remove that duplicate, it would look like there are two identical students instead of one. This would make any analysis you do inaccurate because that one student's data is counted twice, making it seem more important or frequent than it actually is. Removing duplicates ensures each student is counted only once, giving you a true picture of your data.\n",
        "\n",
        "Here we have no duplicated data."
      ],
      "metadata": {
        "id": "w1RUTbAw3arn"
      }
    },
    {
      "cell_type": "markdown",
      "source": [
        "### 4.Convert Categorical Columns to category Type"
      ],
      "metadata": {
        "id": "zbP0UBRQ63FI"
      }
    },
    {
      "cell_type": "code",
      "source": [
        "# List of non-numeric but categorical columns\n",
        "cat_cols = ['gender', 'diet_quality', 'internet_quality', 'mental_health_rating', 'parental_education_level']\n",
        "\n",
        "# Convert them to category type\n",
        "for col in cat_cols:\n",
        "    df[col] = df[col].astype('category')\n"
      ],
      "metadata": {
        "id": "gx6E-ae93e4G"
      },
      "execution_count": 33,
      "outputs": []
    },
    {
      "cell_type": "markdown",
      "source": [
        "### Interpretation:\n",
        "Converting categorical columns to 'category' type is required to optimize memory usage and speed up operations for EDA"
      ],
      "metadata": {
        "id": "TecdStHq8K_h"
      }
    },
    {
      "cell_type": "markdown",
      "source": [
        "### Final Check After Cleaning"
      ],
      "metadata": {
        "id": "rYegfnv_8YxT"
      }
    },
    {
      "cell_type": "code",
      "source": [
        "# Check again for nulls\n",
        "df.isnull().sum()\n",
        "\n",
        "# Preview cleaned dataset\n",
        "df.head()\n"
      ],
      "metadata": {
        "colab": {
          "base_uri": "https://localhost:8080/",
          "height": 226
        },
        "id": "2rfdmBNO8TAN",
        "outputId": "a7f5af38-39ee-4793-a4cf-94870eb57593"
      },
      "execution_count": 34,
      "outputs": [
        {
          "output_type": "execute_result",
          "data": {
            "text/plain": [
              "  student_id  age  gender  study_hours_per_day  social_media_hours  \\\n",
              "0      S1000   23  Female                  0.0                 1.2   \n",
              "1      S1001   20  Female                  6.9                 2.8   \n",
              "2      S1002   21    Male                  1.4                 3.1   \n",
              "3      S1003   23  Female                  1.0                 3.9   \n",
              "4      S1004   19  Female                  5.0                 4.4   \n",
              "\n",
              "   netflix_hours  part_time_job  attendance_percentage  sleep_hours  \\\n",
              "0            1.1              0                   85.0          8.0   \n",
              "1            2.3              0                   97.3          4.6   \n",
              "2            1.3              0                   94.8          8.0   \n",
              "3            1.0              0                   71.0          9.2   \n",
              "4            0.5              0                   90.9          4.9   \n",
              "\n",
              "  diet_quality  exercise_frequency parental_education_level internet_quality  \\\n",
              "0         Fair                   6                   Master          Average   \n",
              "1         Good                   6              High School          Average   \n",
              "2         Poor                   1              High School             Poor   \n",
              "3         Poor                   4                   Master             Good   \n",
              "4         Fair                   3                   Master             Good   \n",
              "\n",
              "  mental_health_rating  extracurricular_participation  exam_score  \n",
              "0                    8                              1        56.2  \n",
              "1                    8                              0       100.0  \n",
              "2                    1                              0        34.3  \n",
              "3                    1                              1        26.8  \n",
              "4                    1                              0        66.4  "
            ],
            "text/html": [
              "\n",
              "  <div id=\"df-2d28b78e-8084-4de1-a694-6797865c54d7\" class=\"colab-df-container\">\n",
              "    <div>\n",
              "<style scoped>\n",
              "    .dataframe tbody tr th:only-of-type {\n",
              "        vertical-align: middle;\n",
              "    }\n",
              "\n",
              "    .dataframe tbody tr th {\n",
              "        vertical-align: top;\n",
              "    }\n",
              "\n",
              "    .dataframe thead th {\n",
              "        text-align: right;\n",
              "    }\n",
              "</style>\n",
              "<table border=\"1\" class=\"dataframe\">\n",
              "  <thead>\n",
              "    <tr style=\"text-align: right;\">\n",
              "      <th></th>\n",
              "      <th>student_id</th>\n",
              "      <th>age</th>\n",
              "      <th>gender</th>\n",
              "      <th>study_hours_per_day</th>\n",
              "      <th>social_media_hours</th>\n",
              "      <th>netflix_hours</th>\n",
              "      <th>part_time_job</th>\n",
              "      <th>attendance_percentage</th>\n",
              "      <th>sleep_hours</th>\n",
              "      <th>diet_quality</th>\n",
              "      <th>exercise_frequency</th>\n",
              "      <th>parental_education_level</th>\n",
              "      <th>internet_quality</th>\n",
              "      <th>mental_health_rating</th>\n",
              "      <th>extracurricular_participation</th>\n",
              "      <th>exam_score</th>\n",
              "    </tr>\n",
              "  </thead>\n",
              "  <tbody>\n",
              "    <tr>\n",
              "      <th>0</th>\n",
              "      <td>S1000</td>\n",
              "      <td>23</td>\n",
              "      <td>Female</td>\n",
              "      <td>0.0</td>\n",
              "      <td>1.2</td>\n",
              "      <td>1.1</td>\n",
              "      <td>0</td>\n",
              "      <td>85.0</td>\n",
              "      <td>8.0</td>\n",
              "      <td>Fair</td>\n",
              "      <td>6</td>\n",
              "      <td>Master</td>\n",
              "      <td>Average</td>\n",
              "      <td>8</td>\n",
              "      <td>1</td>\n",
              "      <td>56.2</td>\n",
              "    </tr>\n",
              "    <tr>\n",
              "      <th>1</th>\n",
              "      <td>S1001</td>\n",
              "      <td>20</td>\n",
              "      <td>Female</td>\n",
              "      <td>6.9</td>\n",
              "      <td>2.8</td>\n",
              "      <td>2.3</td>\n",
              "      <td>0</td>\n",
              "      <td>97.3</td>\n",
              "      <td>4.6</td>\n",
              "      <td>Good</td>\n",
              "      <td>6</td>\n",
              "      <td>High School</td>\n",
              "      <td>Average</td>\n",
              "      <td>8</td>\n",
              "      <td>0</td>\n",
              "      <td>100.0</td>\n",
              "    </tr>\n",
              "    <tr>\n",
              "      <th>2</th>\n",
              "      <td>S1002</td>\n",
              "      <td>21</td>\n",
              "      <td>Male</td>\n",
              "      <td>1.4</td>\n",
              "      <td>3.1</td>\n",
              "      <td>1.3</td>\n",
              "      <td>0</td>\n",
              "      <td>94.8</td>\n",
              "      <td>8.0</td>\n",
              "      <td>Poor</td>\n",
              "      <td>1</td>\n",
              "      <td>High School</td>\n",
              "      <td>Poor</td>\n",
              "      <td>1</td>\n",
              "      <td>0</td>\n",
              "      <td>34.3</td>\n",
              "    </tr>\n",
              "    <tr>\n",
              "      <th>3</th>\n",
              "      <td>S1003</td>\n",
              "      <td>23</td>\n",
              "      <td>Female</td>\n",
              "      <td>1.0</td>\n",
              "      <td>3.9</td>\n",
              "      <td>1.0</td>\n",
              "      <td>0</td>\n",
              "      <td>71.0</td>\n",
              "      <td>9.2</td>\n",
              "      <td>Poor</td>\n",
              "      <td>4</td>\n",
              "      <td>Master</td>\n",
              "      <td>Good</td>\n",
              "      <td>1</td>\n",
              "      <td>1</td>\n",
              "      <td>26.8</td>\n",
              "    </tr>\n",
              "    <tr>\n",
              "      <th>4</th>\n",
              "      <td>S1004</td>\n",
              "      <td>19</td>\n",
              "      <td>Female</td>\n",
              "      <td>5.0</td>\n",
              "      <td>4.4</td>\n",
              "      <td>0.5</td>\n",
              "      <td>0</td>\n",
              "      <td>90.9</td>\n",
              "      <td>4.9</td>\n",
              "      <td>Fair</td>\n",
              "      <td>3</td>\n",
              "      <td>Master</td>\n",
              "      <td>Good</td>\n",
              "      <td>1</td>\n",
              "      <td>0</td>\n",
              "      <td>66.4</td>\n",
              "    </tr>\n",
              "  </tbody>\n",
              "</table>\n",
              "</div>\n",
              "    <div class=\"colab-df-buttons\">\n",
              "\n",
              "  <div class=\"colab-df-container\">\n",
              "    <button class=\"colab-df-convert\" onclick=\"convertToInteractive('df-2d28b78e-8084-4de1-a694-6797865c54d7')\"\n",
              "            title=\"Convert this dataframe to an interactive table.\"\n",
              "            style=\"display:none;\">\n",
              "\n",
              "  <svg xmlns=\"http://www.w3.org/2000/svg\" height=\"24px\" viewBox=\"0 -960 960 960\">\n",
              "    <path d=\"M120-120v-720h720v720H120Zm60-500h600v-160H180v160Zm220 220h160v-160H400v160Zm0 220h160v-160H400v160ZM180-400h160v-160H180v160Zm440 0h160v-160H620v160ZM180-180h160v-160H180v160Zm440 0h160v-160H620v160Z\"/>\n",
              "  </svg>\n",
              "    </button>\n",
              "\n",
              "  <style>\n",
              "    .colab-df-container {\n",
              "      display:flex;\n",
              "      gap: 12px;\n",
              "    }\n",
              "\n",
              "    .colab-df-convert {\n",
              "      background-color: #E8F0FE;\n",
              "      border: none;\n",
              "      border-radius: 50%;\n",
              "      cursor: pointer;\n",
              "      display: none;\n",
              "      fill: #1967D2;\n",
              "      height: 32px;\n",
              "      padding: 0 0 0 0;\n",
              "      width: 32px;\n",
              "    }\n",
              "\n",
              "    .colab-df-convert:hover {\n",
              "      background-color: #E2EBFA;\n",
              "      box-shadow: 0px 1px 2px rgba(60, 64, 67, 0.3), 0px 1px 3px 1px rgba(60, 64, 67, 0.15);\n",
              "      fill: #174EA6;\n",
              "    }\n",
              "\n",
              "    .colab-df-buttons div {\n",
              "      margin-bottom: 4px;\n",
              "    }\n",
              "\n",
              "    [theme=dark] .colab-df-convert {\n",
              "      background-color: #3B4455;\n",
              "      fill: #D2E3FC;\n",
              "    }\n",
              "\n",
              "    [theme=dark] .colab-df-convert:hover {\n",
              "      background-color: #434B5C;\n",
              "      box-shadow: 0px 1px 3px 1px rgba(0, 0, 0, 0.15);\n",
              "      filter: drop-shadow(0px 1px 2px rgba(0, 0, 0, 0.3));\n",
              "      fill: #FFFFFF;\n",
              "    }\n",
              "  </style>\n",
              "\n",
              "    <script>\n",
              "      const buttonEl =\n",
              "        document.querySelector('#df-2d28b78e-8084-4de1-a694-6797865c54d7 button.colab-df-convert');\n",
              "      buttonEl.style.display =\n",
              "        google.colab.kernel.accessAllowed ? 'block' : 'none';\n",
              "\n",
              "      async function convertToInteractive(key) {\n",
              "        const element = document.querySelector('#df-2d28b78e-8084-4de1-a694-6797865c54d7');\n",
              "        const dataTable =\n",
              "          await google.colab.kernel.invokeFunction('convertToInteractive',\n",
              "                                                    [key], {});\n",
              "        if (!dataTable) return;\n",
              "\n",
              "        const docLinkHtml = 'Like what you see? Visit the ' +\n",
              "          '<a target=\"_blank\" href=https://colab.research.google.com/notebooks/data_table.ipynb>data table notebook</a>'\n",
              "          + ' to learn more about interactive tables.';\n",
              "        element.innerHTML = '';\n",
              "        dataTable['output_type'] = 'display_data';\n",
              "        await google.colab.output.renderOutput(dataTable, element);\n",
              "        const docLink = document.createElement('div');\n",
              "        docLink.innerHTML = docLinkHtml;\n",
              "        element.appendChild(docLink);\n",
              "      }\n",
              "    </script>\n",
              "  </div>\n",
              "\n",
              "\n",
              "    <div id=\"df-f957227b-60fb-4131-a904-ab3c6193be31\">\n",
              "      <button class=\"colab-df-quickchart\" onclick=\"quickchart('df-f957227b-60fb-4131-a904-ab3c6193be31')\"\n",
              "                title=\"Suggest charts\"\n",
              "                style=\"display:none;\">\n",
              "\n",
              "<svg xmlns=\"http://www.w3.org/2000/svg\" height=\"24px\"viewBox=\"0 0 24 24\"\n",
              "     width=\"24px\">\n",
              "    <g>\n",
              "        <path d=\"M19 3H5c-1.1 0-2 .9-2 2v14c0 1.1.9 2 2 2h14c1.1 0 2-.9 2-2V5c0-1.1-.9-2-2-2zM9 17H7v-7h2v7zm4 0h-2V7h2v10zm4 0h-2v-4h2v4z\"/>\n",
              "    </g>\n",
              "</svg>\n",
              "      </button>\n",
              "\n",
              "<style>\n",
              "  .colab-df-quickchart {\n",
              "      --bg-color: #E8F0FE;\n",
              "      --fill-color: #1967D2;\n",
              "      --hover-bg-color: #E2EBFA;\n",
              "      --hover-fill-color: #174EA6;\n",
              "      --disabled-fill-color: #AAA;\n",
              "      --disabled-bg-color: #DDD;\n",
              "  }\n",
              "\n",
              "  [theme=dark] .colab-df-quickchart {\n",
              "      --bg-color: #3B4455;\n",
              "      --fill-color: #D2E3FC;\n",
              "      --hover-bg-color: #434B5C;\n",
              "      --hover-fill-color: #FFFFFF;\n",
              "      --disabled-bg-color: #3B4455;\n",
              "      --disabled-fill-color: #666;\n",
              "  }\n",
              "\n",
              "  .colab-df-quickchart {\n",
              "    background-color: var(--bg-color);\n",
              "    border: none;\n",
              "    border-radius: 50%;\n",
              "    cursor: pointer;\n",
              "    display: none;\n",
              "    fill: var(--fill-color);\n",
              "    height: 32px;\n",
              "    padding: 0;\n",
              "    width: 32px;\n",
              "  }\n",
              "\n",
              "  .colab-df-quickchart:hover {\n",
              "    background-color: var(--hover-bg-color);\n",
              "    box-shadow: 0 1px 2px rgba(60, 64, 67, 0.3), 0 1px 3px 1px rgba(60, 64, 67, 0.15);\n",
              "    fill: var(--button-hover-fill-color);\n",
              "  }\n",
              "\n",
              "  .colab-df-quickchart-complete:disabled,\n",
              "  .colab-df-quickchart-complete:disabled:hover {\n",
              "    background-color: var(--disabled-bg-color);\n",
              "    fill: var(--disabled-fill-color);\n",
              "    box-shadow: none;\n",
              "  }\n",
              "\n",
              "  .colab-df-spinner {\n",
              "    border: 2px solid var(--fill-color);\n",
              "    border-color: transparent;\n",
              "    border-bottom-color: var(--fill-color);\n",
              "    animation:\n",
              "      spin 1s steps(1) infinite;\n",
              "  }\n",
              "\n",
              "  @keyframes spin {\n",
              "    0% {\n",
              "      border-color: transparent;\n",
              "      border-bottom-color: var(--fill-color);\n",
              "      border-left-color: var(--fill-color);\n",
              "    }\n",
              "    20% {\n",
              "      border-color: transparent;\n",
              "      border-left-color: var(--fill-color);\n",
              "      border-top-color: var(--fill-color);\n",
              "    }\n",
              "    30% {\n",
              "      border-color: transparent;\n",
              "      border-left-color: var(--fill-color);\n",
              "      border-top-color: var(--fill-color);\n",
              "      border-right-color: var(--fill-color);\n",
              "    }\n",
              "    40% {\n",
              "      border-color: transparent;\n",
              "      border-right-color: var(--fill-color);\n",
              "      border-top-color: var(--fill-color);\n",
              "    }\n",
              "    60% {\n",
              "      border-color: transparent;\n",
              "      border-right-color: var(--fill-color);\n",
              "    }\n",
              "    80% {\n",
              "      border-color: transparent;\n",
              "      border-right-color: var(--fill-color);\n",
              "      border-bottom-color: var(--fill-color);\n",
              "    }\n",
              "    90% {\n",
              "      border-color: transparent;\n",
              "      border-bottom-color: var(--fill-color);\n",
              "    }\n",
              "  }\n",
              "</style>\n",
              "\n",
              "      <script>\n",
              "        async function quickchart(key) {\n",
              "          const quickchartButtonEl =\n",
              "            document.querySelector('#' + key + ' button');\n",
              "          quickchartButtonEl.disabled = true;  // To prevent multiple clicks.\n",
              "          quickchartButtonEl.classList.add('colab-df-spinner');\n",
              "          try {\n",
              "            const charts = await google.colab.kernel.invokeFunction(\n",
              "                'suggestCharts', [key], {});\n",
              "          } catch (error) {\n",
              "            console.error('Error during call to suggestCharts:', error);\n",
              "          }\n",
              "          quickchartButtonEl.classList.remove('colab-df-spinner');\n",
              "          quickchartButtonEl.classList.add('colab-df-quickchart-complete');\n",
              "        }\n",
              "        (() => {\n",
              "          let quickchartButtonEl =\n",
              "            document.querySelector('#df-f957227b-60fb-4131-a904-ab3c6193be31 button');\n",
              "          quickchartButtonEl.style.display =\n",
              "            google.colab.kernel.accessAllowed ? 'block' : 'none';\n",
              "        })();\n",
              "      </script>\n",
              "    </div>\n",
              "\n",
              "    </div>\n",
              "  </div>\n"
            ],
            "application/vnd.google.colaboratory.intrinsic+json": {
              "type": "dataframe",
              "variable_name": "df",
              "summary": "{\n  \"name\": \"df\",\n  \"rows\": 1000,\n  \"fields\": [\n    {\n      \"column\": \"student_id\",\n      \"properties\": {\n        \"dtype\": \"string\",\n        \"num_unique_values\": 1000,\n        \"samples\": [\n          \"S1521\",\n          \"S1737\",\n          \"S1740\"\n        ],\n        \"semantic_type\": \"\",\n        \"description\": \"\"\n      }\n    },\n    {\n      \"column\": \"age\",\n      \"properties\": {\n        \"dtype\": \"number\",\n        \"std\": 2,\n        \"min\": 17,\n        \"max\": 24,\n        \"num_unique_values\": 8,\n        \"samples\": [\n          20,\n          18,\n          23\n        ],\n        \"semantic_type\": \"\",\n        \"description\": \"\"\n      }\n    },\n    {\n      \"column\": \"gender\",\n      \"properties\": {\n        \"dtype\": \"category\",\n        \"num_unique_values\": 3,\n        \"samples\": [\n          \"Female\",\n          \"Male\",\n          \"Other\"\n        ],\n        \"semantic_type\": \"\",\n        \"description\": \"\"\n      }\n    },\n    {\n      \"column\": \"study_hours_per_day\",\n      \"properties\": {\n        \"dtype\": \"number\",\n        \"std\": 1.4688899303990155,\n        \"min\": 0.0,\n        \"max\": 8.3,\n        \"num_unique_values\": 78,\n        \"samples\": [\n          5.4,\n          0.0,\n          2.2\n        ],\n        \"semantic_type\": \"\",\n        \"description\": \"\"\n      }\n    },\n    {\n      \"column\": \"social_media_hours\",\n      \"properties\": {\n        \"dtype\": \"number\",\n        \"std\": 1.1724224171877315,\n        \"min\": 0.0,\n        \"max\": 7.2,\n        \"num_unique_values\": 60,\n        \"samples\": [\n          1.2,\n          1.3,\n          0.1\n        ],\n        \"semantic_type\": \"\",\n        \"description\": \"\"\n      }\n    },\n    {\n      \"column\": \"netflix_hours\",\n      \"properties\": {\n        \"dtype\": \"number\",\n        \"std\": 1.0751175692861612,\n        \"min\": 0.0,\n        \"max\": 5.4,\n        \"num_unique_values\": 51,\n        \"samples\": [\n          0.3,\n          3.7,\n          4.6\n        ],\n        \"semantic_type\": \"\",\n        \"description\": \"\"\n      }\n    },\n    {\n      \"column\": \"part_time_job\",\n      \"properties\": {\n        \"dtype\": \"number\",\n        \"std\": 0,\n        \"min\": 0,\n        \"max\": 1,\n        \"num_unique_values\": 2,\n        \"samples\": [\n          1,\n          0\n        ],\n        \"semantic_type\": \"\",\n        \"description\": \"\"\n      }\n    },\n    {\n      \"column\": \"attendance_percentage\",\n      \"properties\": {\n        \"dtype\": \"number\",\n        \"std\": 9.399246296429354,\n        \"min\": 56.0,\n        \"max\": 100.0,\n        \"num_unique_values\": 320,\n        \"samples\": [\n          75.7,\n          90.3\n        ],\n        \"semantic_type\": \"\",\n        \"description\": \"\"\n      }\n    },\n    {\n      \"column\": \"sleep_hours\",\n      \"properties\": {\n        \"dtype\": \"number\",\n        \"std\": 1.226376773259339,\n        \"min\": 3.2,\n        \"max\": 10.0,\n        \"num_unique_values\": 68,\n        \"samples\": [\n          8.2,\n          6.0\n        ],\n        \"semantic_type\": \"\",\n        \"description\": \"\"\n      }\n    },\n    {\n      \"column\": \"diet_quality\",\n      \"properties\": {\n        \"dtype\": \"category\",\n        \"num_unique_values\": 3,\n        \"samples\": [\n          \"Fair\",\n          \"Good\"\n        ],\n        \"semantic_type\": \"\",\n        \"description\": \"\"\n      }\n    },\n    {\n      \"column\": \"exercise_frequency\",\n      \"properties\": {\n        \"dtype\": \"number\",\n        \"std\": 2,\n        \"min\": 0,\n        \"max\": 6,\n        \"num_unique_values\": 7,\n        \"samples\": [\n          6,\n          1\n        ],\n        \"semantic_type\": \"\",\n        \"description\": \"\"\n      }\n    },\n    {\n      \"column\": \"parental_education_level\",\n      \"properties\": {\n        \"dtype\": \"category\",\n        \"num_unique_values\": 3,\n        \"samples\": [\n          \"Master\",\n          \"High School\"\n        ],\n        \"semantic_type\": \"\",\n        \"description\": \"\"\n      }\n    },\n    {\n      \"column\": \"internet_quality\",\n      \"properties\": {\n        \"dtype\": \"category\",\n        \"num_unique_values\": 3,\n        \"samples\": [\n          \"Average\",\n          \"Poor\"\n        ],\n        \"semantic_type\": \"\",\n        \"description\": \"\"\n      }\n    },\n    {\n      \"column\": \"mental_health_rating\",\n      \"properties\": {\n        \"dtype\": \"category\",\n        \"num_unique_values\": 10,\n        \"samples\": [\n          2,\n          1\n        ],\n        \"semantic_type\": \"\",\n        \"description\": \"\"\n      }\n    },\n    {\n      \"column\": \"extracurricular_participation\",\n      \"properties\": {\n        \"dtype\": \"number\",\n        \"std\": 0,\n        \"min\": 0,\n        \"max\": 1,\n        \"num_unique_values\": 2,\n        \"samples\": [\n          0,\n          1\n        ],\n        \"semantic_type\": \"\",\n        \"description\": \"\"\n      }\n    },\n    {\n      \"column\": \"exam_score\",\n      \"properties\": {\n        \"dtype\": \"number\",\n        \"std\": 16.88856392181825,\n        \"min\": 18.4,\n        \"max\": 100.0,\n        \"num_unique_values\": 480,\n        \"samples\": [\n          53.5,\n          59.3\n        ],\n        \"semantic_type\": \"\",\n        \"description\": \"\"\n      }\n    }\n  ]\n}"
            }
          },
          "metadata": {},
          "execution_count": 34
        }
      ]
    },
    {
      "cell_type": "markdown",
      "source": [
        "### Data Cleaning Summary\n",
        "\n",
        "- Handled missing values in `parental_education_level` by filling with mode.\n",
        "- Converted binary columns (`part_time_job`, `extracurricular_participation`) from Yes/No to 1/0.\n",
        "- Checked and removed duplicate rows (if any).\n",
        "- Converted categorical text columns to `category` dtype for memory optimization.\n",
        "- Ensured dataset is fully clean for EDA and visualization.\n"
      ],
      "metadata": {
        "id": "MT6xtylbGuM3"
      }
    },
    {
      "cell_type": "markdown",
      "source": [
        "## Step 4: Descriptive Statistics"
      ],
      "metadata": {
        "id": "-8k3SY0XH7M2"
      }
    },
    {
      "cell_type": "code",
      "source": [
        "# Summary of numerical features\n",
        "df.describe()\n"
      ],
      "metadata": {
        "colab": {
          "base_uri": "https://localhost:8080/",
          "height": 320
        },
        "id": "s0NxK5Q48zPj",
        "outputId": "2018b29f-476c-4cd5-e13f-ac65489432ac"
      },
      "execution_count": 35,
      "outputs": [
        {
          "output_type": "execute_result",
          "data": {
            "text/plain": [
              "             age  study_hours_per_day  social_media_hours  netflix_hours  \\\n",
              "count  1000.0000           1000.00000         1000.000000    1000.000000   \n",
              "mean     20.4980              3.55010            2.505500       1.819700   \n",
              "std       2.3081              1.46889            1.172422       1.075118   \n",
              "min      17.0000              0.00000            0.000000       0.000000   \n",
              "25%      18.7500              2.60000            1.700000       1.000000   \n",
              "50%      20.0000              3.50000            2.500000       1.800000   \n",
              "75%      23.0000              4.50000            3.300000       2.525000   \n",
              "max      24.0000              8.30000            7.200000       5.400000   \n",
              "\n",
              "       part_time_job  attendance_percentage  sleep_hours  exercise_frequency  \\\n",
              "count    1000.000000            1000.000000  1000.000000         1000.000000   \n",
              "mean        0.215000              84.131700     6.470100            3.042000   \n",
              "std         0.411028               9.399246     1.226377            2.025423   \n",
              "min         0.000000              56.000000     3.200000            0.000000   \n",
              "25%         0.000000              78.000000     5.600000            1.000000   \n",
              "50%         0.000000              84.400000     6.500000            3.000000   \n",
              "75%         0.000000              91.025000     7.300000            5.000000   \n",
              "max         1.000000             100.000000    10.000000            6.000000   \n",
              "\n",
              "       extracurricular_participation   exam_score  \n",
              "count                    1000.000000  1000.000000  \n",
              "mean                        0.318000    69.601500  \n",
              "std                         0.465932    16.888564  \n",
              "min                         0.000000    18.400000  \n",
              "25%                         0.000000    58.475000  \n",
              "50%                         0.000000    70.500000  \n",
              "75%                         1.000000    81.325000  \n",
              "max                         1.000000   100.000000  "
            ],
            "text/html": [
              "\n",
              "  <div id=\"df-73c9aaf6-f1aa-4b63-ac2a-3a9151d648d8\" class=\"colab-df-container\">\n",
              "    <div>\n",
              "<style scoped>\n",
              "    .dataframe tbody tr th:only-of-type {\n",
              "        vertical-align: middle;\n",
              "    }\n",
              "\n",
              "    .dataframe tbody tr th {\n",
              "        vertical-align: top;\n",
              "    }\n",
              "\n",
              "    .dataframe thead th {\n",
              "        text-align: right;\n",
              "    }\n",
              "</style>\n",
              "<table border=\"1\" class=\"dataframe\">\n",
              "  <thead>\n",
              "    <tr style=\"text-align: right;\">\n",
              "      <th></th>\n",
              "      <th>age</th>\n",
              "      <th>study_hours_per_day</th>\n",
              "      <th>social_media_hours</th>\n",
              "      <th>netflix_hours</th>\n",
              "      <th>part_time_job</th>\n",
              "      <th>attendance_percentage</th>\n",
              "      <th>sleep_hours</th>\n",
              "      <th>exercise_frequency</th>\n",
              "      <th>extracurricular_participation</th>\n",
              "      <th>exam_score</th>\n",
              "    </tr>\n",
              "  </thead>\n",
              "  <tbody>\n",
              "    <tr>\n",
              "      <th>count</th>\n",
              "      <td>1000.0000</td>\n",
              "      <td>1000.00000</td>\n",
              "      <td>1000.000000</td>\n",
              "      <td>1000.000000</td>\n",
              "      <td>1000.000000</td>\n",
              "      <td>1000.000000</td>\n",
              "      <td>1000.000000</td>\n",
              "      <td>1000.000000</td>\n",
              "      <td>1000.000000</td>\n",
              "      <td>1000.000000</td>\n",
              "    </tr>\n",
              "    <tr>\n",
              "      <th>mean</th>\n",
              "      <td>20.4980</td>\n",
              "      <td>3.55010</td>\n",
              "      <td>2.505500</td>\n",
              "      <td>1.819700</td>\n",
              "      <td>0.215000</td>\n",
              "      <td>84.131700</td>\n",
              "      <td>6.470100</td>\n",
              "      <td>3.042000</td>\n",
              "      <td>0.318000</td>\n",
              "      <td>69.601500</td>\n",
              "    </tr>\n",
              "    <tr>\n",
              "      <th>std</th>\n",
              "      <td>2.3081</td>\n",
              "      <td>1.46889</td>\n",
              "      <td>1.172422</td>\n",
              "      <td>1.075118</td>\n",
              "      <td>0.411028</td>\n",
              "      <td>9.399246</td>\n",
              "      <td>1.226377</td>\n",
              "      <td>2.025423</td>\n",
              "      <td>0.465932</td>\n",
              "      <td>16.888564</td>\n",
              "    </tr>\n",
              "    <tr>\n",
              "      <th>min</th>\n",
              "      <td>17.0000</td>\n",
              "      <td>0.00000</td>\n",
              "      <td>0.000000</td>\n",
              "      <td>0.000000</td>\n",
              "      <td>0.000000</td>\n",
              "      <td>56.000000</td>\n",
              "      <td>3.200000</td>\n",
              "      <td>0.000000</td>\n",
              "      <td>0.000000</td>\n",
              "      <td>18.400000</td>\n",
              "    </tr>\n",
              "    <tr>\n",
              "      <th>25%</th>\n",
              "      <td>18.7500</td>\n",
              "      <td>2.60000</td>\n",
              "      <td>1.700000</td>\n",
              "      <td>1.000000</td>\n",
              "      <td>0.000000</td>\n",
              "      <td>78.000000</td>\n",
              "      <td>5.600000</td>\n",
              "      <td>1.000000</td>\n",
              "      <td>0.000000</td>\n",
              "      <td>58.475000</td>\n",
              "    </tr>\n",
              "    <tr>\n",
              "      <th>50%</th>\n",
              "      <td>20.0000</td>\n",
              "      <td>3.50000</td>\n",
              "      <td>2.500000</td>\n",
              "      <td>1.800000</td>\n",
              "      <td>0.000000</td>\n",
              "      <td>84.400000</td>\n",
              "      <td>6.500000</td>\n",
              "      <td>3.000000</td>\n",
              "      <td>0.000000</td>\n",
              "      <td>70.500000</td>\n",
              "    </tr>\n",
              "    <tr>\n",
              "      <th>75%</th>\n",
              "      <td>23.0000</td>\n",
              "      <td>4.50000</td>\n",
              "      <td>3.300000</td>\n",
              "      <td>2.525000</td>\n",
              "      <td>0.000000</td>\n",
              "      <td>91.025000</td>\n",
              "      <td>7.300000</td>\n",
              "      <td>5.000000</td>\n",
              "      <td>1.000000</td>\n",
              "      <td>81.325000</td>\n",
              "    </tr>\n",
              "    <tr>\n",
              "      <th>max</th>\n",
              "      <td>24.0000</td>\n",
              "      <td>8.30000</td>\n",
              "      <td>7.200000</td>\n",
              "      <td>5.400000</td>\n",
              "      <td>1.000000</td>\n",
              "      <td>100.000000</td>\n",
              "      <td>10.000000</td>\n",
              "      <td>6.000000</td>\n",
              "      <td>1.000000</td>\n",
              "      <td>100.000000</td>\n",
              "    </tr>\n",
              "  </tbody>\n",
              "</table>\n",
              "</div>\n",
              "    <div class=\"colab-df-buttons\">\n",
              "\n",
              "  <div class=\"colab-df-container\">\n",
              "    <button class=\"colab-df-convert\" onclick=\"convertToInteractive('df-73c9aaf6-f1aa-4b63-ac2a-3a9151d648d8')\"\n",
              "            title=\"Convert this dataframe to an interactive table.\"\n",
              "            style=\"display:none;\">\n",
              "\n",
              "  <svg xmlns=\"http://www.w3.org/2000/svg\" height=\"24px\" viewBox=\"0 -960 960 960\">\n",
              "    <path d=\"M120-120v-720h720v720H120Zm60-500h600v-160H180v160Zm220 220h160v-160H400v160Zm0 220h160v-160H400v160ZM180-400h160v-160H180v160Zm440 0h160v-160H620v160ZM180-180h160v-160H180v160Zm440 0h160v-160H620v160Z\"/>\n",
              "  </svg>\n",
              "    </button>\n",
              "\n",
              "  <style>\n",
              "    .colab-df-container {\n",
              "      display:flex;\n",
              "      gap: 12px;\n",
              "    }\n",
              "\n",
              "    .colab-df-convert {\n",
              "      background-color: #E8F0FE;\n",
              "      border: none;\n",
              "      border-radius: 50%;\n",
              "      cursor: pointer;\n",
              "      display: none;\n",
              "      fill: #1967D2;\n",
              "      height: 32px;\n",
              "      padding: 0 0 0 0;\n",
              "      width: 32px;\n",
              "    }\n",
              "\n",
              "    .colab-df-convert:hover {\n",
              "      background-color: #E2EBFA;\n",
              "      box-shadow: 0px 1px 2px rgba(60, 64, 67, 0.3), 0px 1px 3px 1px rgba(60, 64, 67, 0.15);\n",
              "      fill: #174EA6;\n",
              "    }\n",
              "\n",
              "    .colab-df-buttons div {\n",
              "      margin-bottom: 4px;\n",
              "    }\n",
              "\n",
              "    [theme=dark] .colab-df-convert {\n",
              "      background-color: #3B4455;\n",
              "      fill: #D2E3FC;\n",
              "    }\n",
              "\n",
              "    [theme=dark] .colab-df-convert:hover {\n",
              "      background-color: #434B5C;\n",
              "      box-shadow: 0px 1px 3px 1px rgba(0, 0, 0, 0.15);\n",
              "      filter: drop-shadow(0px 1px 2px rgba(0, 0, 0, 0.3));\n",
              "      fill: #FFFFFF;\n",
              "    }\n",
              "  </style>\n",
              "\n",
              "    <script>\n",
              "      const buttonEl =\n",
              "        document.querySelector('#df-73c9aaf6-f1aa-4b63-ac2a-3a9151d648d8 button.colab-df-convert');\n",
              "      buttonEl.style.display =\n",
              "        google.colab.kernel.accessAllowed ? 'block' : 'none';\n",
              "\n",
              "      async function convertToInteractive(key) {\n",
              "        const element = document.querySelector('#df-73c9aaf6-f1aa-4b63-ac2a-3a9151d648d8');\n",
              "        const dataTable =\n",
              "          await google.colab.kernel.invokeFunction('convertToInteractive',\n",
              "                                                    [key], {});\n",
              "        if (!dataTable) return;\n",
              "\n",
              "        const docLinkHtml = 'Like what you see? Visit the ' +\n",
              "          '<a target=\"_blank\" href=https://colab.research.google.com/notebooks/data_table.ipynb>data table notebook</a>'\n",
              "          + ' to learn more about interactive tables.';\n",
              "        element.innerHTML = '';\n",
              "        dataTable['output_type'] = 'display_data';\n",
              "        await google.colab.output.renderOutput(dataTable, element);\n",
              "        const docLink = document.createElement('div');\n",
              "        docLink.innerHTML = docLinkHtml;\n",
              "        element.appendChild(docLink);\n",
              "      }\n",
              "    </script>\n",
              "  </div>\n",
              "\n",
              "\n",
              "    <div id=\"df-40dfdb01-1516-4f5f-9324-64f90d474629\">\n",
              "      <button class=\"colab-df-quickchart\" onclick=\"quickchart('df-40dfdb01-1516-4f5f-9324-64f90d474629')\"\n",
              "                title=\"Suggest charts\"\n",
              "                style=\"display:none;\">\n",
              "\n",
              "<svg xmlns=\"http://www.w3.org/2000/svg\" height=\"24px\"viewBox=\"0 0 24 24\"\n",
              "     width=\"24px\">\n",
              "    <g>\n",
              "        <path d=\"M19 3H5c-1.1 0-2 .9-2 2v14c0 1.1.9 2 2 2h14c1.1 0 2-.9 2-2V5c0-1.1-.9-2-2-2zM9 17H7v-7h2v7zm4 0h-2V7h2v10zm4 0h-2v-4h2v4z\"/>\n",
              "    </g>\n",
              "</svg>\n",
              "      </button>\n",
              "\n",
              "<style>\n",
              "  .colab-df-quickchart {\n",
              "      --bg-color: #E8F0FE;\n",
              "      --fill-color: #1967D2;\n",
              "      --hover-bg-color: #E2EBFA;\n",
              "      --hover-fill-color: #174EA6;\n",
              "      --disabled-fill-color: #AAA;\n",
              "      --disabled-bg-color: #DDD;\n",
              "  }\n",
              "\n",
              "  [theme=dark] .colab-df-quickchart {\n",
              "      --bg-color: #3B4455;\n",
              "      --fill-color: #D2E3FC;\n",
              "      --hover-bg-color: #434B5C;\n",
              "      --hover-fill-color: #FFFFFF;\n",
              "      --disabled-bg-color: #3B4455;\n",
              "      --disabled-fill-color: #666;\n",
              "  }\n",
              "\n",
              "  .colab-df-quickchart {\n",
              "    background-color: var(--bg-color);\n",
              "    border: none;\n",
              "    border-radius: 50%;\n",
              "    cursor: pointer;\n",
              "    display: none;\n",
              "    fill: var(--fill-color);\n",
              "    height: 32px;\n",
              "    padding: 0;\n",
              "    width: 32px;\n",
              "  }\n",
              "\n",
              "  .colab-df-quickchart:hover {\n",
              "    background-color: var(--hover-bg-color);\n",
              "    box-shadow: 0 1px 2px rgba(60, 64, 67, 0.3), 0 1px 3px 1px rgba(60, 64, 67, 0.15);\n",
              "    fill: var(--button-hover-fill-color);\n",
              "  }\n",
              "\n",
              "  .colab-df-quickchart-complete:disabled,\n",
              "  .colab-df-quickchart-complete:disabled:hover {\n",
              "    background-color: var(--disabled-bg-color);\n",
              "    fill: var(--disabled-fill-color);\n",
              "    box-shadow: none;\n",
              "  }\n",
              "\n",
              "  .colab-df-spinner {\n",
              "    border: 2px solid var(--fill-color);\n",
              "    border-color: transparent;\n",
              "    border-bottom-color: var(--fill-color);\n",
              "    animation:\n",
              "      spin 1s steps(1) infinite;\n",
              "  }\n",
              "\n",
              "  @keyframes spin {\n",
              "    0% {\n",
              "      border-color: transparent;\n",
              "      border-bottom-color: var(--fill-color);\n",
              "      border-left-color: var(--fill-color);\n",
              "    }\n",
              "    20% {\n",
              "      border-color: transparent;\n",
              "      border-left-color: var(--fill-color);\n",
              "      border-top-color: var(--fill-color);\n",
              "    }\n",
              "    30% {\n",
              "      border-color: transparent;\n",
              "      border-left-color: var(--fill-color);\n",
              "      border-top-color: var(--fill-color);\n",
              "      border-right-color: var(--fill-color);\n",
              "    }\n",
              "    40% {\n",
              "      border-color: transparent;\n",
              "      border-right-color: var(--fill-color);\n",
              "      border-top-color: var(--fill-color);\n",
              "    }\n",
              "    60% {\n",
              "      border-color: transparent;\n",
              "      border-right-color: var(--fill-color);\n",
              "    }\n",
              "    80% {\n",
              "      border-color: transparent;\n",
              "      border-right-color: var(--fill-color);\n",
              "      border-bottom-color: var(--fill-color);\n",
              "    }\n",
              "    90% {\n",
              "      border-color: transparent;\n",
              "      border-bottom-color: var(--fill-color);\n",
              "    }\n",
              "  }\n",
              "</style>\n",
              "\n",
              "      <script>\n",
              "        async function quickchart(key) {\n",
              "          const quickchartButtonEl =\n",
              "            document.querySelector('#' + key + ' button');\n",
              "          quickchartButtonEl.disabled = true;  // To prevent multiple clicks.\n",
              "          quickchartButtonEl.classList.add('colab-df-spinner');\n",
              "          try {\n",
              "            const charts = await google.colab.kernel.invokeFunction(\n",
              "                'suggestCharts', [key], {});\n",
              "          } catch (error) {\n",
              "            console.error('Error during call to suggestCharts:', error);\n",
              "          }\n",
              "          quickchartButtonEl.classList.remove('colab-df-spinner');\n",
              "          quickchartButtonEl.classList.add('colab-df-quickchart-complete');\n",
              "        }\n",
              "        (() => {\n",
              "          let quickchartButtonEl =\n",
              "            document.querySelector('#df-40dfdb01-1516-4f5f-9324-64f90d474629 button');\n",
              "          quickchartButtonEl.style.display =\n",
              "            google.colab.kernel.accessAllowed ? 'block' : 'none';\n",
              "        })();\n",
              "      </script>\n",
              "    </div>\n",
              "\n",
              "    </div>\n",
              "  </div>\n"
            ],
            "application/vnd.google.colaboratory.intrinsic+json": {
              "type": "dataframe",
              "summary": "{\n  \"name\": \"df\",\n  \"rows\": 8,\n  \"fields\": [\n    {\n      \"column\": \"age\",\n      \"properties\": {\n        \"dtype\": \"number\",\n        \"std\": 347.2774706167576,\n        \"min\": 2.30809950464085,\n        \"max\": 1000.0,\n        \"num_unique_values\": 8,\n        \"samples\": [\n          20.498,\n          20.0,\n          1000.0\n        ],\n        \"semantic_type\": \"\",\n        \"description\": \"\"\n      }\n    },\n    {\n      \"column\": \"study_hours_per_day\",\n      \"properties\": {\n        \"dtype\": \"number\",\n        \"std\": 352.3536471471172,\n        \"min\": 0.0,\n        \"max\": 1000.0,\n        \"num_unique_values\": 8,\n        \"samples\": [\n          3.5501000000000005,\n          3.5,\n          1000.0\n        ],\n        \"semantic_type\": \"\",\n        \"description\": \"\"\n      }\n    },\n    {\n      \"column\": \"social_media_hours\",\n      \"properties\": {\n        \"dtype\": \"number\",\n        \"std\": 352.63149988869014,\n        \"min\": 0.0,\n        \"max\": 1000.0,\n        \"num_unique_values\": 8,\n        \"samples\": [\n          2.5055,\n          2.5,\n          1000.0\n        ],\n        \"semantic_type\": \"\",\n        \"description\": \"\"\n      }\n    },\n    {\n      \"column\": \"netflix_hours\",\n      \"properties\": {\n        \"dtype\": \"number\",\n        \"std\": 352.8690774999639,\n        \"min\": 0.0,\n        \"max\": 1000.0,\n        \"num_unique_values\": 8,\n        \"samples\": [\n          1.8197,\n          1.8,\n          1000.0\n        ],\n        \"semantic_type\": \"\",\n        \"description\": \"\"\n      }\n    },\n    {\n      \"column\": \"part_time_job\",\n      \"properties\": {\n        \"dtype\": \"number\",\n        \"std\": 353.47143301328356,\n        \"min\": 0.0,\n        \"max\": 1000.0,\n        \"num_unique_values\": 5,\n        \"samples\": [\n          0.215,\n          1.0,\n          0.41102791139282013\n        ],\n        \"semantic_type\": \"\",\n        \"description\": \"\"\n      }\n    },\n    {\n      \"column\": \"attendance_percentage\",\n      \"properties\": {\n        \"dtype\": \"number\",\n        \"std\": 329.37946577885697,\n        \"min\": 9.399246296429354,\n        \"max\": 1000.0,\n        \"num_unique_values\": 8,\n        \"samples\": [\n          84.1317,\n          84.4,\n          1000.0\n        ],\n        \"semantic_type\": \"\",\n        \"description\": \"\"\n      }\n    },\n    {\n      \"column\": \"sleep_hours\",\n      \"properties\": {\n        \"dtype\": \"number\",\n        \"std\": 351.5279731290736,\n        \"min\": 1.226376773259339,\n        \"max\": 1000.0,\n        \"num_unique_values\": 8,\n        \"samples\": [\n          6.4701,\n          6.5,\n          1000.0\n        ],\n        \"semantic_type\": \"\",\n        \"description\": \"\"\n      }\n    },\n    {\n      \"column\": \"exercise_frequency\",\n      \"properties\": {\n        \"dtype\": \"number\",\n        \"std\": 352.54526815077503,\n        \"min\": 0.0,\n        \"max\": 1000.0,\n        \"num_unique_values\": 8,\n        \"samples\": [\n          3.042,\n          3.0,\n          1000.0\n        ],\n        \"semantic_type\": \"\",\n        \"description\": \"\"\n      }\n    },\n    {\n      \"column\": \"extracurricular_participation\",\n      \"properties\": {\n        \"dtype\": \"number\",\n        \"std\": 353.41302553153344,\n        \"min\": 0.0,\n        \"max\": 1000.0,\n        \"num_unique_values\": 5,\n        \"samples\": [\n          0.318,\n          1.0,\n          0.4659324984298617\n        ],\n        \"semantic_type\": \"\",\n        \"description\": \"\"\n      }\n    },\n    {\n      \"column\": \"exam_score\",\n      \"properties\": {\n        \"dtype\": \"number\",\n        \"std\": 333.8361700457515,\n        \"min\": 16.88856392181825,\n        \"max\": 1000.0,\n        \"num_unique_values\": 8,\n        \"samples\": [\n          69.6015,\n          70.5,\n          1000.0\n        ],\n        \"semantic_type\": \"\",\n        \"description\": \"\"\n      }\n    }\n  ]\n}"
            }
          },
          "metadata": {},
          "execution_count": 35
        }
      ]
    },
    {
      "cell_type": "markdown",
      "source": [
        "### Interpretation:\n",
        "This dataset describes 1000 students with an average age of 20.5 years. Students spend roughly 3.5 hours studying, 2.5 hours on social media, and 1.8 hours on Netflix daily. Attendance averages 84.1%, and sleep is around 6.5 hours. A small portion (21.5%) have part-time jobs and 31.8% participate in extracurriculars. Exam scores range from 18.4 to 100, with an average of 69.6. These statistics provide a good baseline for further exploration of relationships between lifestyle, habits, and academic performance."
      ],
      "metadata": {
        "id": "Bn2tZFPhJhaK"
      }
    },
    {
      "cell_type": "markdown",
      "source": [
        "## Step 5:  Exploratory Data Analysis (EDA)"
      ],
      "metadata": {
        "id": "CcQcIh3tJn7a"
      }
    },
    {
      "cell_type": "markdown",
      "source": [
        "The goal of this section is to understand the underlying patterns, relationships, and distributions within the dataset to gain insights into factors affecting students' academic performance.\n",
        "\n",
        "In this project, the target variable is:\n",
        "\n",
        "exam_score — This represents each student's performance in academic assessments and is treated as a continuous numerical variable.\n",
        "\n",
        "We will explore how various factors—such as attendance, study hours, sleep, diet quality, parental education, and mental health—influence this target variable."
      ],
      "metadata": {
        "id": "is2J1MwuQ5kJ"
      }
    },
    {
      "cell_type": "markdown",
      "source": [
        "### 1. Distribution of Target Variable (exam_score)\n",
        "Helps us to see if scores are normally distributed or skewed."
      ],
      "metadata": {
        "id": "2l3JocSpRx_I"
      }
    },
    {
      "cell_type": "code",
      "source": [
        "import seaborn as sns\n",
        "import matplotlib.pyplot as plt\n",
        "\n",
        "sns.histplot(df['exam_score'], kde=True, color='blue')\n",
        "plt.title('Distribution of Exam Scores')\n",
        "plt.xlabel('Exam Score')\n",
        "plt.ylabel('Count')\n",
        "plt.show()\n"
      ],
      "metadata": {
        "id": "0xD5wzs9AyxX",
        "colab": {
          "base_uri": "https://localhost:8080/",
          "height": 472
        },
        "outputId": "2607236c-9c53-4931-b583-2c4660a60247"
      },
      "execution_count": 36,
      "outputs": [
        {
          "output_type": "display_data",
          "data": {
            "text/plain": [
              "<Figure size 640x480 with 1 Axes>"
            ],
            "image/png": "[encoded data removed]"
          },
          "metadata": {}
        }
      ]
    },
    {
      "cell_type": "markdown",
      "source": [
        "### Insight:\n",
        "The exam scores like a bell curve, but a bit stretched out. Most students scored somewhere between 60 and 80. A few students did really well, getting close to 100, and a few struggled, getting lower scores. This shows that there's a mix of different performance levels in this group of students."
      ],
      "metadata": {
        "id": "8JuU-ONlS9TL"
      }
    },
    {
      "cell_type": "markdown",
      "source": [
        "#### Calculating skewness"
      ],
      "metadata": {
        "id": "8k4sAU8wUawL"
      }
    },
    {
      "cell_type": "code",
      "source": [
        "from scipy.stats import skew\n",
        "\n",
        "# Calculate skewness\n",
        "skewness = skew(df['exam_score'])\n",
        "\n",
        "print(f\"Skewness of exam_score: {skewness:.2f}\")\n"
      ],
      "metadata": {
        "colab": {
          "base_uri": "https://localhost:8080/"
        },
        "id": "CvYr9NGZR3bv",
        "outputId": "f7f3ef9a-2d74-47cc-a5ee-41de695f97d6"
      },
      "execution_count": 37,
      "outputs": [
        {
          "output_type": "stream",
          "name": "stdout",
          "text": [
            "Skewness of exam_score: -0.16\n"
          ]
        }
      ]
    },
    {
      "cell_type": "markdown",
      "source": [
        "### Interpretation:\n",
        "The target variable exam_score has a skewness of -0.16, indicating a nearly symmetrical distribution with a slight tendency toward lower scores. This suggests the data is well-balanced."
      ],
      "metadata": {
        "id": "RFyq8k87USvB"
      }
    },
    {
      "cell_type": "markdown",
      "source": [
        "### 2.Boxplot: Gender vs Exam Score\n",
        "Check if there’s a difference in performance between males and females.\n",
        "\n"
      ],
      "metadata": {
        "id": "FE5AxZKlUnBO"
      }
    },
    {
      "cell_type": "code",
      "source": [
        "sns.boxplot(x='gender', y='exam_score', data=df, hue='gender', palette='Set2', legend=False)\n",
        "plt.title('Exam Score by Gender')\n",
        "plt.show()\n"
      ],
      "metadata": {
        "colab": {
          "base_uri": "https://localhost:8080/",
          "height": 472
        },
        "id": "SKLI2G4XUVGk",
        "outputId": "9fb7eec8-de88-4629-b815-734d0b755fb8"
      },
      "execution_count": 38,
      "outputs": [
        {
          "output_type": "display_data",
          "data": {
            "text/plain": [
              "<Figure size 640x480 with 1 Axes>"
            ],
            "image/png": "[encoded data removed]"
          },
          "metadata": {}
        }
      ]
    },
    {
      "cell_type": "markdown",
      "source": [
        "### Insight:\n",
        "Girls (Female) generally did a bit better on tests, with their middle scores (the line in the box) being higher than boys'. Their typical scores were also closer together.\n",
        "\n",
        "Boys (Male) had slightly lower middle scores than girls.\n",
        "\n",
        "The 'Other' group's scores were similar to boys, but maybe a touch lower than girls.\n",
        "\n",
        "Overall, girls seem to perform slightly better on exams, but all groups had some students who scored much lower than most."
      ],
      "metadata": {
        "id": "XfZAlaXSWUNT"
      }
    },
    {
      "cell_type": "markdown",
      "source": [
        "### 3.  Scatter Plot: Study Hours vs Exam Score\n",
        "Check if more study hours relate to higher scores."
      ],
      "metadata": {
        "id": "fM3qDpyrWX9X"
      }
    },
    {
      "cell_type": "code",
      "source": [
        "sns.scatterplot(x='study_hours_per_day', y='exam_score', data=df)\n",
        "plt.title('Study Hours vs Exam Score')\n",
        "plt.xlabel('Study Hours per Day')\n",
        "plt.ylabel('Exam Score')\n",
        "plt.show()\n"
      ],
      "metadata": {
        "colab": {
          "base_uri": "https://localhost:8080/",
          "height": 472
        },
        "id": "36VieN7UU-YR",
        "outputId": "decfe016-bd9d-4c69-f48f-489602b9f78a"
      },
      "execution_count": 39,
      "outputs": [
        {
          "output_type": "display_data",
          "data": {
            "text/plain": [
              "<Figure size 640x480 with 1 Axes>"
            ],
            "image/png": "[encoded data removed]"
          },
          "metadata": {}
        }
      ]
    },
    {
      "cell_type": "markdown",
      "source": [
        "### Insight:\n",
        "The scatter plot shows a strong positive correlation between study hours per day and exam score: as study hours increase, exam scores generally rise. This suggests that more dedicated study time leads to better academic performance. However, there's still some variability, indicating other factors also influence scores."
      ],
      "metadata": {
        "id": "lBAPNiSkXQMz"
      }
    },
    {
      "cell_type": "markdown",
      "source": [
        "### 4.Correlation Heatmap(To show correlation between target variable and othe numerical variables)"
      ],
      "metadata": {
        "id": "-YHax7nkXUja"
      }
    },
    {
      "cell_type": "code",
      "source": [
        "import seaborn as sns\n",
        "import matplotlib.pyplot as plt\n",
        "\n",
        "# Select only numeric columns\n",
        "numeric_cols = df.select_dtypes(include='number')\n",
        "\n",
        "# Calculate correlation with the target variable\n",
        "correlation_with_target = numeric_cols.corr()['exam_score'].drop('exam_score').sort_values(ascending=False)\n",
        "\n",
        "# Plot the correlation values\n",
        "plt.figure(figsize=(8, 5))\n",
        "sns.barplot(x=correlation_with_target.values, y=correlation_with_target.index, palette='viridis')\n",
        "plt.title('Correlation of Numeric Features with Exam Score')\n",
        "plt.xlabel('Correlation Coefficient')\n",
        "plt.ylabel('Numeric Features')\n",
        "plt.grid(axis='x')\n",
        "plt.show()\n"
      ],
      "metadata": {
        "colab": {
          "base_uri": "https://localhost:8080/",
          "height": 594
        },
        "id": "_4F5E4-2W78l",
        "outputId": "c094a2af-53fc-4ebb-e1a8-f7a303bcd893"
      },
      "execution_count": 40,
      "outputs": [
        {
          "output_type": "stream",
          "name": "stderr",
          "text": [
            "/tmp/ipython-input-40-314562090.py:12: FutureWarning: \n",
            "\n",
            "Passing `palette` without assigning `hue` is deprecated and will be removed in v0.14.0. Assign the `y` variable to `hue` and set `legend=False` for the same effect.\n",
            "\n",
            "  sns.barplot(x=correlation_with_target.values, y=correlation_with_target.index, palette='viridis')\n"
          ]
        },
        {
          "output_type": "display_data",
          "data": {
            "text/plain": [
              "<Figure size 800x500 with 1 Axes>"
            ],
            "image/png": "[encoded data removed]"
          },
          "metadata": {}
        }
      ]
    },
    {
      "cell_type": "markdown",
      "source": [
        "### Insight:\n",
        "The correlation plot shows:\n",
        "\n",
        "Strong Positive Correlation: study_hours_per_day has the strongest positive link with exam_score (more study, higher score).\n",
        "\n",
        "Moderate Positive Correlation: exercise_frequency, sleep_hours, and attendance_percentage also have positive, but weaker, links to exam_score.\n",
        "\n",
        "Weak/Negligible Correlation: age and part_time_job have very little impact on exam_score.\n",
        "\n",
        "Negative Correlation: social_media_hours and netflix_hours show a negative relationship with exam_score (more time on these, lower score), with netflix_hours having the strongest negative link."
      ],
      "metadata": {
        "id": "p6GptqBSbY3Y"
      }
    },
    {
      "cell_type": "markdown",
      "source": [
        "### 5.Boxplot: Internet Quality vs Exam Score\n",
        "Understand how tech access may impact academic performance."
      ],
      "metadata": {
        "id": "FPpi2h3Nbs9H"
      }
    },
    {
      "cell_type": "code",
      "source": [
        "plt.figure(figsize=(8, 5))\n",
        "sns.boxplot(\n",
        "    x='internet_quality',\n",
        "    y='exam_score',\n",
        "    data=df,\n",
        "    palette='cool',\n",
        "    hue='internet_quality',   # Assigning x variable as hue\n",
        "    legend=False              # Hides legend since hue == x\n",
        ")\n",
        "plt.title('Exam Score Distribution by Internet Quality')\n",
        "plt.xlabel('Internet Quality')\n",
        "plt.ylabel('Exam Score')\n",
        "plt.show()\n"
      ],
      "metadata": {
        "colab": {
          "base_uri": "https://localhost:8080/",
          "height": 487
        },
        "id": "hW2vBmcCXh4N",
        "outputId": "56dc4bdd-6e7a-4f6d-c874-ed94ce9ffb04"
      },
      "execution_count": 41,
      "outputs": [
        {
          "output_type": "display_data",
          "data": {
            "text/plain": [
              "<Figure size 800x500 with 1 Axes>"
            ],
            "image/png": "[encoded data removed]"
          },
          "metadata": {}
        }
      ]
    },
    {
      "cell_type": "markdown",
      "source": [
        "### Insight:\n",
        "Overall Similar Performance: There isn't a dramatic difference in exam scores across students with Average, Good, or Poor internet quality. The median scores (middle line in the boxes) are all quite close.\n",
        "\n",
        "Wider Range for 'Average' and 'Good': Students with 'Average' and 'Good' internet quality show a slightly wider spread of typical exam scores (the height of their boxes) compared to those with 'Poor' internet.\n",
        "\n",
        "Outliers in All Categories: All internet quality groups have some low-scoring outliers, indicating that regardless of internet quality, some students still perform significantly below average.\n",
        "\n",
        "Insight: Based on this plot alone, internet quality does not appear to be a major determining factor for exam performance. While one might expect better internet to correlate with higher scores (e.g., for online learning), this data suggests other factors might be more influential."
      ],
      "metadata": {
        "id": "9UGX89_Fdhtx"
      }
    },
    {
      "cell_type": "markdown",
      "source": [
        "### 6. Bar Plot: Diet Quality vs Exam Score\n",
        "Compare how good/fair/poor diet affects performance."
      ],
      "metadata": {
        "id": "Lqd-jkM-d6YD"
      }
    },
    {
      "cell_type": "code",
      "source": [
        "df.groupby('diet_quality', observed=True)['exam_score'].mean().plot(\n",
        "    kind='bar',\n",
        "    color='green'\n",
        ")\n",
        "plt.title('Average Exam Score by Diet Quality')\n",
        "plt.xlabel('Diet Quality')\n",
        "plt.ylabel('Average Exam Score')\n",
        "plt.show()\n"
      ],
      "metadata": {
        "colab": {
          "base_uri": "https://localhost:8080/",
          "height": 494
        },
        "id": "Q1YX3M_ucJl5",
        "outputId": "c9dcde0e-197a-4af0-d853-b66542175c0e"
      },
      "execution_count": 42,
      "outputs": [
        {
          "output_type": "display_data",
          "data": {
            "text/plain": [
              "<Figure size 640x480 with 1 Axes>"
            ],
            "image/png": "[encoded data removed]"
          },
          "metadata": {}
        }
      ]
    },
    {
      "cell_type": "markdown",
      "source": [
        "### Insight:\n",
        "This bar chart shows how diet quality affects average exam scores. In simple terms:\n",
        "\n",
        "No matter if students ate a Fair, Good, or Poor diet, their average exam scores were all roughly the same. Having a \"Good\" diet didn't clearly lead to higher test scores, and a \"Poor\" diet didn't mean much lower scores, based on this data."
      ],
      "metadata": {
        "id": "9FD4IdcPeud7"
      }
    },
    {
      "cell_type": "markdown",
      "source": [
        "### 7. Line Plot: Sleep Hours vs Exam Score\n",
        "Helps see if there's an optimal amount of sleep for better scores.\n",
        "\n"
      ],
      "metadata": {
        "id": "g4M1kAO3e5mE"
      }
    },
    {
      "cell_type": "code",
      "source": [
        "sns.lineplot(x='sleep_hours', y='exam_score', data=df)\n",
        "plt.title('Sleep Duration vs Exam Score')\n",
        "plt.show()\n"
      ],
      "metadata": {
        "colab": {
          "base_uri": "https://localhost:8080/",
          "height": 472
        },
        "id": "srkGFvufeLtt",
        "outputId": "7fe0154d-5576-438c-dcf4-4c3d07e04791"
      },
      "execution_count": 43,
      "outputs": [
        {
          "output_type": "display_data",
          "data": {
            "text/plain": [
              "<Figure size 640x480 with 1 Axes>"
            ],
            "image/png": "[encoded data removed]"
          },
          "metadata": {}
        }
      ]
    },
    {
      "cell_type": "markdown",
      "source": [
        "### Insight:\n",
        "General Trend: Exam scores increase slightly with more sleep, especially between 6 to 8 hours.\n",
        "\n",
        "Optimal Sleep Range: Students sleeping 6.5 to 8.5 hours tend to score higher on average.\n",
        "\n",
        "Too little (<5 hrs) or too much (>9 hrs) sleep shows greater variability and lower consistency in scores.\n",
        "\n",
        "Maintaining a balanced sleep duration (around 7–8 hours) may contribute to better and more stable exam performance."
      ],
      "metadata": {
        "id": "Yua4LZ6yfpWT"
      }
    },
    {
      "cell_type": "markdown",
      "source": [
        "### 8.Bar Plot: Part-Time Job Impact on exam score"
      ],
      "metadata": {
        "id": "8YucVGQdgEzX"
      }
    },
    {
      "cell_type": "code",
      "source": [
        "sns.barplot(x='part_time_job', y='exam_score', data=df, estimator='mean')\n",
        "plt.title('Average Exam Score by Part-Time Job Status')\n",
        "plt.show()\n"
      ],
      "metadata": {
        "colab": {
          "base_uri": "https://localhost:8080/",
          "height": 472
        },
        "id": "7w9VYZFkfBXe",
        "outputId": "b10f7bd0-f27a-44ef-8130-abfe974e54f2"
      },
      "execution_count": 44,
      "outputs": [
        {
          "output_type": "display_data",
          "data": {
            "text/plain": [
              "<Figure size 640x480 with 1 Axes>"
            ],
            "image/png": "[encoded data removed]"
          },
          "metadata": {}
        }
      ]
    },
    {
      "cell_type": "markdown",
      "source": [
        "### Insight:\n",
        "This bar chart compares average exam scores for students who do not have a part-time job (0) versus those who do have a part-time job (1).\n",
        "\n",
        "There's virtually no difference in average exam scores between students who work part-time and those who don't. Both groups score about the same on their exams. This suggests having a part-time job doesn't significantly affect a student's average exam performance in this dataset."
      ],
      "metadata": {
        "id": "heLiv-zqhC7e"
      }
    },
    {
      "cell_type": "markdown",
      "source": [
        "## Step 7: Feature Engineering\n",
        "Feature engineering is the process of creating new, impactful variables from existing ones to  uncover deeper insights."
      ],
      "metadata": {
        "id": "rXyVruwGtBbb"
      }
    },
    {
      "cell_type": "markdown",
      "source": [
        "### a. Create a New Feature: Study Efficiency\n",
        "Helps us understand how effectively students are using their time."
      ],
      "metadata": {
        "id": "4MDWV1bFtJrc"
      }
    },
    {
      "cell_type": "code",
      "source": [
        "import numpy as np\n",
        "df['study_efficiency'] = df['study_hours_per_day'] / df['sleep_hours']\n",
        "df['study_efficiency'] = df['study_efficiency'].replace([np.inf, -np.inf], np.nan)\n",
        "df['study_efficiency'] = df['study_efficiency'].fillna(0)\n"
      ],
      "metadata": {
        "id": "gHKIUCTLgPOV"
      },
      "execution_count": 45,
      "outputs": []
    },
    {
      "cell_type": "markdown",
      "source": [
        "### Code Explanation:\n",
        "This code makes a new number called 'study efficiency' by dividing how much a student studies by how much they sleep. If the result is a tricky number (like dividing by zero), it just makes it zero instead, so the number is always useful.\n",
        "### Interpretation:\n",
        "This formula is used to create a new feature called \"study efficiency\" because it attempts to capture how much a student studies relative to how much they sleep.\n",
        "\n",
        "It's a way to see if getting more or less sleep, in combination with study time, impacts their performance, suggesting a balance (or imbalance) between work and rest."
      ],
      "metadata": {
        "id": "0C6avwMr4Y2Z"
      }
    },
    {
      "cell_type": "markdown",
      "source": [
        " ### b. Categorize sleep_hours into Low, Moderate, High\n",
        " Turns continuous data into interpretable categories."
      ],
      "metadata": {
        "id": "LUVwNm3wwosP"
      }
    },
    {
      "cell_type": "code",
      "source": [
        "def categorize_sleep(hours):\n",
        "    if hours < 5:\n",
        "        return 'Low'\n",
        "    elif 5 <= hours <= 7:\n",
        "        return 'Moderate'\n",
        "    else:\n",
        "        return 'High'\n",
        "\n",
        "df['sleep_category'] = df['sleep_hours'].apply(categorize_sleep)\n",
        "\n"
      ],
      "metadata": {
        "id": "52XjtyvPtYTI"
      },
      "execution_count": 46,
      "outputs": []
    },
    {
      "cell_type": "markdown",
      "source": [
        "### Interpretation:\n",
        "his code is used to categorize a continuous numerical variable (sleep_hours) into meaningful discrete groups ('Low', 'Moderate', 'High').\n",
        "\n",
        "This allows for easier analysis and visualization of how different sleep patterns (not just exact hours) might relate to other aspects of student life, such as exam scores"
      ],
      "metadata": {
        "id": "6bjApOoO422K"
      }
    },
    {
      "cell_type": "markdown",
      "source": [
        "### c. Convert exam_score into categories: fail (<40), pass (40–75), excellent (>75)"
      ],
      "metadata": {
        "id": "ngJi5GQ8xLKp"
      }
    },
    {
      "cell_type": "code",
      "source": [
        "bins = [0, 40, 75, 100]  # Assuming score is out of 100\n",
        "labels = ['Fail', 'Pass', 'Excellent']\n",
        "\n",
        "df['performance_category'] = pd.cut(df['exam_score'], bins=bins, labels=labels, right=False)\n"
      ],
      "metadata": {
        "id": "OJsHkOgatirH"
      },
      "execution_count": 47,
      "outputs": []
    },
    {
      "cell_type": "markdown",
      "source": [
        "### Interpretation:\n",
        "This code simply sorts students into \"Fail,\" \"Pass,\" or \"Excellent\" groups based on their exam scores, making it easy to see how many students fall into each performance level."
      ],
      "metadata": {
        "id": "L19kJWm25epi"
      }
    },
    {
      "cell_type": "markdown",
      "source": [
        "### Step 8: Group-wise Analysis\n"
      ],
      "metadata": {
        "id": "kBpe6KSk1lJi"
      }
    },
    {
      "cell_type": "markdown",
      "source": [
        "#### What is Group-wise Analysis?\n",
        "Group-wise analysis helps compare the average or distribution of exam scores (or any metric) across different categories like gender, sleep category, diet quality, etc.\n",
        "\n",
        "It reveals patterns and potential factors affecting student performance."
      ],
      "metadata": {
        "id": "C8PAsuWD5ua1"
      }
    },
    {
      "cell_type": "markdown",
      "source": [
        "#### a. Average exam score by study efficiency category:\n",
        "\n",
        "Checking how students with low, medium, or high study efficiency scored on average in exams.\n",
        "\n",
        "\n",
        "\n",
        "\n",
        "\n",
        "\n",
        "\n",
        "\n",
        "\n",
        "\n"
      ],
      "metadata": {
        "id": "YaG4cY9X3eT9"
      }
    },
    {
      "cell_type": "code",
      "source": [
        "\n",
        "df.groupby('performance_category')['study_efficiency'].mean().plot(kind='bar', color='pink')\n",
        "plt.title(\"Avg Study Efficiency by Performance Category\")\n",
        "plt.ylabel(\"Study Efficiency\")\n",
        "plt.show()\n"
      ],
      "metadata": {
        "colab": {
          "base_uri": "https://localhost:8080/",
          "height": 576
        },
        "id": "bPRftSP2xxCp",
        "outputId": "730fb1e1-8da8-438b-b581-397e4a0beaf5"
      },
      "execution_count": 48,
      "outputs": [
        {
          "output_type": "stream",
          "name": "stderr",
          "text": [
            "/tmp/ipython-input-48-3099018293.py:1: FutureWarning: The default of observed=False is deprecated and will be changed to True in a future version of pandas. Pass observed=False to retain current behavior or observed=True to adopt the future default and silence this warning.\n",
            "  df.groupby('performance_category')['study_efficiency'].mean().plot(kind='bar', color='pink')\n"
          ]
        },
        {
          "output_type": "display_data",
          "data": {
            "text/plain": [
              "<Figure size 640x480 with 1 Axes>"
            ],
            "image/png": "[encoded data removed]"
          },
          "metadata": {}
        }
      ]
    },
    {
      "cell_type": "markdown",
      "source": [
        "### Insight:\n",
        "The \"Avg Study Efficiency by Performance Category\" chart clearly showed that students in the 'Excellent' performance category had the highest average study efficiency, followed by 'Pass', and then 'Fail'. This indicates a strong positive correlation between a student's study efficiency (as defined by study hours divided by sleep hours) and their exam performance.\n",
        "\n",
        "There is a clear relationship: as study efficiency increases, exam scores also tend to increase."
      ],
      "metadata": {
        "id": "e5q2kc5c7i0a"
      }
    },
    {
      "cell_type": "markdown",
      "source": [
        "### b. Average Exam Score by Sleep Category"
      ],
      "metadata": {
        "id": "7CDfTpcRT6iw"
      }
    },
    {
      "cell_type": "code",
      "source": [
        "df.groupby('sleep_category')['exam_score'].mean().plot(kind='bar', color='orange')\n",
        "plt.title('Average Exam Score by Sleep Category')\n",
        "plt.ylabel('Exam Score')\n",
        "plt.show()\n"
      ],
      "metadata": {
        "id": "UJwqotza3GwB",
        "colab": {
          "base_uri": "https://localhost:8080/",
          "height": 524
        },
        "outputId": "5ee95094-ee9e-4dae-c551-41bc4a318f70"
      },
      "execution_count": 49,
      "outputs": [
        {
          "output_type": "display_data",
          "data": {
            "text/plain": [
              "<Figure size 640x480 with 1 Axes>"
            ],
            "image/png": "[encoded data removed]"
          },
          "metadata": {}
        }
      ]
    },
    {
      "cell_type": "markdown",
      "source": [
        "### Insight:\n",
        "The chart shows that people who get a \"High\" amount of sleep tend to have the best exam scores, followed closely by those with \"Moderate\" sleep. People who get \"Low\" amounts of sleep generally have lower exam scores compared to the other two groups."
      ],
      "metadata": {
        "id": "oZ4-7odlUZ5X"
      }
    },
    {
      "cell_type": "markdown",
      "source": [
        "### c. Exam Score by Diet Quality"
      ],
      "metadata": {
        "id": "n-qpI1etUtNv"
      }
    },
    {
      "cell_type": "code",
      "source": [
        "df.groupby('diet_quality')['exam_score'].mean().plot(kind='bar', color='yellow')\n",
        "plt.title('Avg Exam Score by Diet Quality')\n",
        "plt.ylabel('Exam Score')\n",
        "plt.show()\n",
        "\n"
      ],
      "metadata": {
        "colab": {
          "base_uri": "https://localhost:8080/",
          "height": 549
        },
        "id": "m8A3wsAdT_e6",
        "outputId": "4d9358a4-0f63-440e-bce0-86d2a1d9bb66"
      },
      "execution_count": 50,
      "outputs": [
        {
          "output_type": "stream",
          "name": "stderr",
          "text": [
            "/tmp/ipython-input-50-429315011.py:1: FutureWarning: The default of observed=False is deprecated and will be changed to True in a future version of pandas. Pass observed=False to retain current behavior or observed=True to adopt the future default and silence this warning.\n",
            "  df.groupby('diet_quality')['exam_score'].mean().plot(kind='bar', color='yellow')\n"
          ]
        },
        {
          "output_type": "display_data",
          "data": {
            "text/plain": [
              "<Figure size 640x480 with 1 Axes>"
            ],
            "image/png": "[encoded data removed]"
          },
          "metadata": {}
        }
      ]
    },
    {
      "cell_type": "markdown",
      "source": [
        "### Insight:\n",
        "The students having fair diet gets maximum scores showing that nutritious diet very important role in securing good marks in exams."
      ],
      "metadata": {
        "id": "iwi8LC79VNno"
      }
    },
    {
      "cell_type": "markdown",
      "source": [
        "### d.Study Efficiency Across Performance Category"
      ],
      "metadata": {
        "id": "7KHrJLXPVifL"
      }
    },
    {
      "cell_type": "code",
      "source": [
        "df.groupby('performance_category')['study_efficiency'].mean().plot(kind='bar', color='purple')\n",
        "plt.title('Study Efficiency by Performance Category')\n",
        "plt.ylabel('Efficiency (study_hours / sleep_hours)')\n",
        "plt.show()\n"
      ],
      "metadata": {
        "colab": {
          "base_uri": "https://localhost:8080/",
          "height": 576
        },
        "id": "rbvJfWXwUw70",
        "outputId": "0cd8162c-26c7-4c07-9e2d-6a68c35213f9"
      },
      "execution_count": 51,
      "outputs": [
        {
          "output_type": "stream",
          "name": "stderr",
          "text": [
            "/tmp/ipython-input-51-1845470846.py:1: FutureWarning: The default of observed=False is deprecated and will be changed to True in a future version of pandas. Pass observed=False to retain current behavior or observed=True to adopt the future default and silence this warning.\n",
            "  df.groupby('performance_category')['study_efficiency'].mean().plot(kind='bar', color='purple')\n"
          ]
        },
        {
          "output_type": "display_data",
          "data": {
            "text/plain": [
              "<Figure size 640x480 with 1 Axes>"
            ],
            "image/png": "[encoded data removed]"
          },
          "metadata": {}
        }
      ]
    },
    {
      "cell_type": "markdown",
      "source": [
        "### Insight:\n",
        "Students in the Excellent category showed the highest study efficiency.\n",
        "It means that students who scored more than 75 (Excellent category) used their study time more effectively compared to others — they likely balanced study hours and sleep better, resulting in higher performance."
      ],
      "metadata": {
        "id": "OKuhZi-AV8yy"
      }
    },
    {
      "cell_type": "markdown",
      "source": [
        "### End Summary of Group Analysis:\n",
        " Group-wise analysis revealed that study habits, sleep patterns, and diet quality significantly affect student performance.\n",
        "These insights can guide students, parents, and educators to improve learning outcomes through lifestyle changes."
      ],
      "metadata": {
        "id": "RrcTsX52WHQe"
      }
    },
    {
      "cell_type": "markdown",
      "source": [
        "### Step 9: Hypothesis Testing:\n",
        "to check if observed differences or patterns in data (e.g., between groups) are real and statistically significant, not just due to random chance."
      ],
      "metadata": {
        "id": "nvToQtBNYlZa"
      }
    },
    {
      "cell_type": "markdown",
      "source": [
        "### 1. Choose 2 Key Questions related to Group Analysis\n",
        "\n",
        "Do male and female students have different exam scores? (T-test)\n",
        "\n",
        "Does diet quality affect exam scores? (ANOVA – 3 groups: Poor, Average, Good)\n",
        "\n",
        "**Why these two are taken?**\n",
        "\n",
        "We choose these two tests because they are directly linked to important factors that might influence student performance\n",
        "\n",
        "Some features (like study_hours or sleep_hours) are numerical, and their relationship with exam_score is already clear from correlation or scatter plots.\n",
        "\n",
        "Hypothesis testing is mainly useful for categorical groups (e.g., Gender, Diet Quality) to check mean differences.\n",
        "\n",
        "Using too many tests can clutter this project."
      ],
      "metadata": {
        "id": "jDJR1BOVZcvT"
      }
    },
    {
      "cell_type": "markdown",
      "source": [
        "### T-Test (Two Groups):  Gender vs Exam Score"
      ],
      "metadata": {
        "id": "p3xuFWlla2O2"
      }
    },
    {
      "cell_type": "code",
      "source": [
        "from scipy.stats import ttest_ind\n",
        "\n",
        "# Split data by gender\n",
        "male_scores = df[df['gender'] == 'Male']['exam_score']\n",
        "female_scores = df[df['gender'] == 'Female']['exam_score']\n",
        "\n",
        "# T-test\n",
        "t_stat, p_value = ttest_ind(male_scores, female_scores)\n",
        "\n",
        "print(f\"T-statistic: {t_stat:.2f}, P-value: {p_value:.4f}\")\n",
        "\n",
        "if p_value < 0.05:\n",
        "    print(\"✅ Result: There is a significant difference between male and female exam scores.\")\n",
        "else:\n",
        "    print(\"❌ Result: No significant difference found between male and female exam scores.\")\n"
      ],
      "metadata": {
        "colab": {
          "base_uri": "https://localhost:8080/"
        },
        "id": "aT5u9Ce5Vllk",
        "outputId": "c9715c6a-ebbb-4067-a6ca-5572dbec111a"
      },
      "execution_count": 52,
      "outputs": [
        {
          "output_type": "stream",
          "name": "stdout",
          "text": [
            "T-statistic: -0.34, P-value: 0.7346\n",
            "❌ Result: No significant difference found between male and female exam scores.\n"
          ]
        }
      ]
    },
    {
      "cell_type": "markdown",
      "source": [
        "### Insight:\n",
        "Although the boxplot suggests females have slightly higher median exam scores compared to males, the T-test (p=0.73) confirms that this difference is not statistically significant.\n",
        "\n",
        "A boxplot shows medians and spread (IQR), not statistical significance.\n",
        "\n",
        "The T-test compares mean scores, not medians."
      ],
      "metadata": {
        "id": "2_X9qAGpbqho"
      }
    },
    {
      "cell_type": "markdown",
      "source": [
        "### ANOVA (3+ Groups): Diet Quality"
      ],
      "metadata": {
        "id": "5ks4myOgb8GQ"
      }
    },
    {
      "cell_type": "code",
      "source": [
        "df_diet = df[['diet_quality', 'exam_score']].dropna()\n"
      ],
      "metadata": {
        "id": "62J0HBF4cloh"
      },
      "execution_count": 56,
      "outputs": []
    },
    {
      "cell_type": "code",
      "source": [
        "from scipy.stats import f_oneway\n",
        "## Group data\n",
        "poor_diet = df_diet[df_diet['diet_quality'] == 'Poor']['exam_score']\n",
        "fair_diet = df_diet[df_diet['diet_quality'] == 'Fair']['exam_score']\n",
        "good_diet = df_diet[df_diet['diet_quality'] == 'Good']['exam_score']\n",
        "#ANOVA\n",
        "f_stat, p_value = f_oneway(poor_diet, fair_diet, good_diet)\n",
        "print(f\"F-statistic: {f_stat:.2f}, P-value: {p_value:.4f}\")\n",
        "if p_value < 0.05:\n",
        "    print(\"✅ Result: Exam scores differ significantly across diet quality levels.\")\n",
        "else:\n",
        "    print(\"❌ Result: No significant difference in exam scores across diet quality levels.\")\n"
      ],
      "metadata": {
        "colab": {
          "base_uri": "https://localhost:8080/"
        },
        "id": "nk94tirAa8Qx",
        "outputId": "2743f01f-c40d-4ec9-b787-204672e977cc"
      },
      "execution_count": 58,
      "outputs": [
        {
          "output_type": "stream",
          "name": "stdout",
          "text": [
            "F-statistic: 1.27, P-value: 0.2824\n",
            "❌ Result: No significant difference in exam scores across diet quality levels.\n"
          ]
        }
      ]
    },
    {
      "cell_type": "markdown",
      "source": [
        "### Insight:\n",
        "Although students with better diet quality show slightly higher average scores in visual analysis, the ANOVA test (p = 0.28) confirms that these differences are not statistically significant — diet quality alone does not strongly impact exam performance.\n",
        "\n",
        "\n",
        "\n",
        "\n",
        "\n",
        "\n",
        "\n",
        "\n",
        "\n",
        "\n"
      ],
      "metadata": {
        "id": "32lTlVI_dH2B"
      }
    },
    {
      "cell_type": "markdown",
      "source": [
        "### Final Conclusion\n",
        "The Student Performance Analysis reveals that academic performance is influenced more by study habits and lifestyle balance rather than demographic factors like gender or diet quality. The distribution of exam scores is nearly symmetrical, with most students scoring between 60 and 80, indicating a balanced performance range.\n",
        "\n",
        "Key findings include:\n",
        "\n",
        "Study habits are crucial: Study hours and study efficiency (study hours vs. sleep hours) show the strongest positive correlation with exam scores. Students in the \"Excellent\" category (scores >75) effectively balanced study time and rest.\n",
        "\n",
        "Sleep quality matters: Students who maintained 6–8 hours of sleep performed consistently better, while both too little (<5 hrs) and excessive (>9 hrs) sleep were linked to less consistent results.\n",
        "\n",
        "Digital distractions hurt performance: More time spent on social media and Netflix correlates negatively with exam scores.\n",
        "\n",
        "Demographic factors have limited impact: Gender and part-time jobs do not show a statistically significant effect on exam performance (validated by T-tests).\n",
        "\n",
        "Lifestyle factors like diet and internet quality also do not show strong statistical significance in exam performance, as confirmed by ANOVA.\n",
        "\n",
        "Overall, dedicated study time, efficient time management, and healthy sleep patterns are the most critical factors driving academic success in this dataset."
      ],
      "metadata": {
        "id": "dGIx_QMLhu35"
      }
    },
    {
      "cell_type": "code",
      "source": [],
      "metadata": {
        "id": "zdzGEh5IcW3V"
      },
      "execution_count": null,
      "outputs": []
    }
  ]
}